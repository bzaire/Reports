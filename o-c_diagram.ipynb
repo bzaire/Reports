{
 "cells": [
  {
   "cell_type": "markdown",
   "metadata": {},
   "source": [
    "# O-C diagram \n",
    "\n",
    "O-C data was computed with the ephemeris provided by Vaccaro et al. (2015). Differential rotation results for 2002 (Hussain et al. 2002) and 2004/2005 (this work) are overplotted in the fig.\n",
    "\n",
    "<img src=\"figs/oc_diffrot.png\" />\n",
    "\n",
    "Absolute value of the O-C quantity (__I think it makes more sense like that__) overplotted with the magnetic field strength. \n",
    "\n",
    "\n",
    "<img src=\"figs/oc_mag.png\" />"
   ]
  },
  {
   "cell_type": "code",
   "execution_count": null,
   "metadata": {},
   "outputs": [],
   "source": []
  }
 ],
 "metadata": {
  "kernelspec": {
   "display_name": "Python 3",
   "language": "python",
   "name": "python3"
  },
  "language_info": {
   "codemirror_mode": {
    "name": "ipython",
    "version": 3
   },
   "file_extension": ".py",
   "mimetype": "text/x-python",
   "name": "python",
   "nbconvert_exporter": "python",
   "pygments_lexer": "ipython3",
   "version": "3.7.2"
  },
  "latex_envs": {
   "LaTeX_envs_menu_present": true,
   "autoclose": false,
   "autocomplete": true,
   "bibliofile": "biblio.bib",
   "cite_by": "apalike",
   "current_citInitial": 1,
   "eqLabelWithNumbers": true,
   "eqNumInitial": 1,
   "hotkeys": {
    "equation": "Ctrl-E",
    "itemize": "Ctrl-I"
   },
   "labels_anchors": false,
   "latex_user_defs": false,
   "report_style_numbering": false,
   "user_envs_cfg": false
  }
 },
 "nbformat": 4,
 "nbformat_minor": 2
}
