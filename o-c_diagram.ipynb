{
 "cells": [
  {
   "cell_type": "markdown",
   "metadata": {},
   "source": [
    "# O-C diagram \n",
    "\n",
    "O-C data was computed with the ephemeris in Hric et al. 2011 (used in Marchioni et al. 2018);\n",
    "When using Vaccaro 2015, the o-c has asymmetric peaks in the o-c. I don't know if am doing something wrong when computing o-c.. if i use the ephemeris that Marchioni used I get the shape in o-c then the one he showed. However, I have a vertical shift in the o-c timings."
   ]
  },
  {
   "cell_type": "code",
   "execution_count": 1,
   "metadata": {},
   "outputs": [],
   "source": [
    "import os\n",
    "from scipy.optimize import leastsq\n",
    "from matplotlib.ticker import MultipleLocator\n",
    "\n",
    "P.style.use(['seaborn-white', 'seaborn-paper', 'seaborn-ticks'])\n",
    "\n",
    "# SET path to data\n",
    "PATH = \"/Users/bzaire/lsd/spectra/v471tau\"\n",
    "\n",
    "os.chdir(PATH)\n",
    "# Read Eclipse timings\n",
    "tE = N.genfromtxt('eclipse_timings.txt', unpack=True)\n",
    "\n",
    "\n",
    "# Time of obseravtions in TT\n",
    "t02 = 2452602.00000\n",
    "t04 = 2453337.87674 \n",
    "t05 = 2453718.72517\n",
    "t14 = 2457021.96287\n",
    "t15 = 2457031.50000\n",
    "t21 = 2459569.32436"
   ]
  },
  {
   "cell_type": "code",
   "execution_count": 2,
   "metadata": {},
   "outputs": [
    {
     "ename": "NameError",
     "evalue": "name 'oc' is not defined",
     "output_type": "error",
     "traceback": [
      "\u001b[0;31m---------------------------------------------------------------------------\u001b[0m",
      "\u001b[0;31mNameError\u001b[0m                                 Traceback (most recent call last)",
      "\u001b[0;32m<ipython-input-2-33e95c8ac7b5>\u001b[0m in \u001b[0;36m<module>\u001b[0;34m()\u001b[0m\n\u001b[0;32m----> 1\u001b[0;31m \u001b[0;32mdel\u001b[0m \u001b[0moc\u001b[0m\u001b[0;34m,\u001b[0m \u001b[0mE\u001b[0m\u001b[0;34m\u001b[0m\u001b[0;34m\u001b[0m\u001b[0m\n\u001b[0m\u001b[1;32m      2\u001b[0m \u001b[0;31m# set which ephemeris to consider\u001b[0m\u001b[0;34m\u001b[0m\u001b[0;34m\u001b[0m\u001b[0;34m\u001b[0m\u001b[0m\n\u001b[1;32m      3\u001b[0m \u001b[0mmode\u001b[0m \u001b[0;34m=\u001b[0m \u001b[0;36m2\u001b[0m\u001b[0;34m\u001b[0m\u001b[0;34m\u001b[0m\u001b[0m\n\u001b[1;32m      4\u001b[0m \u001b[0;32mif\u001b[0m \u001b[0mmode\u001b[0m \u001b[0;34m==\u001b[0m \u001b[0;36m0\u001b[0m\u001b[0;34m:\u001b[0m\u001b[0;34m\u001b[0m\u001b[0;34m\u001b[0m\u001b[0m\n\u001b[1;32m      5\u001b[0m     \u001b[0;31m## Vaccaro et al. 2015\u001b[0m\u001b[0;34m\u001b[0m\u001b[0;34m\u001b[0m\u001b[0;34m\u001b[0m\u001b[0m\n",
      "\u001b[0;31mNameError\u001b[0m: name 'oc' is not defined"
     ]
    }
   ],
   "source": [
    "del oc, E\n",
    "# set which ephemeris to consider\n",
    "mode = 2\n",
    "if mode == 0:\n",
    "    ## Vaccaro et al. 2015\n",
    "    dP = tE-2445821.898291\n",
    "    c = 0.5211833875\n",
    "    # Cycle\n",
    "    E = N.array([round(idP/Prot) for idP in dP])\n",
    "    oc = (dP-Prot*E)  #in days\n",
    "    # define time to subtract for plots\n",
    "    constant = 24.0e5\n",
    "elif mode == 1:\n",
    "    ## Guinan and Ribas 2001\n",
    "    dP = tE-2440610.06406\n",
    "    Prot =  0.521183398\n",
    "    # Cycle\n",
    "    E = N.array([round(idP/Prot) for idP in dP])\n",
    "    oc = (dP-Prot*E)*24*3600.  #in seconds\n",
    "    # define time to subtract for plots\n",
    "    constant = 24.4e5\n",
    "elif mode == 2: \n",
    "    ## Kundra and Hric 2011\n",
    "    ## Hric et al. 2011\n",
    "    dP = tE-2454028.452551\n",
    "    Prot = 0.521183439\n",
    "    # Cycle\n",
    "    E = N.array([round(idP/Prot) for idP in dP])\n",
    "    oc = (dP-Prot*E)*24*3600.  #in seconds\n",
    "    # define time to subtract for plots\n",
    "    constant = 24.4e5\n",
    "    \n"
   ]
  },
  {
   "cell_type": "markdown",
   "metadata": {},
   "source": [
    "## Fit a sin wave to o-c"
   ]
  },
  {
   "cell_type": "code",
   "execution_count": null,
   "metadata": {},
   "outputs": [],
   "source": [
    "guess_phase = 0.4; guess_freq = 35.*365.25; guess_amp = 150.;offset=0.\n",
    "optimize_func = lambda c: c[0]*N.sin(2*N.pi/c[1]*(tE + c[2])) + c[3] - oc\n",
    "est_amp, est_period, est_phase,est_offset = leastsq(optimize_func, [guess_amp, guess_freq, guess_phase, offset])[0]\n",
    "\n",
    "print('K = %1.1f s' %est_amp)\n",
    "print('Pmod = %1.1f yr' %(est_period/(365.)))\n",
    "print('Phase = %1.1f d' %est_phase)\n",
    "print('Offset = %1.1f s' %est_offset)\n",
    "\n"
   ]
  },
  {
   "cell_type": "markdown",
   "metadata": {},
   "source": [
    "## o-c, observing times, and fit curve "
   ]
  },
  {
   "cell_type": "code",
   "execution_count": null,
   "metadata": {
    "scrolled": true
   },
   "outputs": [],
   "source": [
    "fig, ax1 = P.subplots(figsize=(6,4), dpi=96)\n",
    "\n",
    "# plot oc\n",
    "ax1.scatter(tE-constant, oc, marker='x', c='k', alpha=2./3)\n",
    "\n",
    "if mode == 0:\n",
    "    # Plot fit from Vaccaro 2018\n",
    "    x = N.linspace(N.min(tE), N.max(tE)+5000, 1000)\n",
    "#   y = -0.0015*N.sin(2*N.pi/(10932.)*(x + 2441781.))\n",
    "#    ax1.plot(x-constant, y, 'brown')    \n",
    "    #\n",
    "    ax1.set_ylim((-0.0025,0.0020))\n",
    "    ax1.yaxis.set_major_locator(MultipleLocator(.0005))\n",
    "    ax1.xaxis.set_minor_locator(MultipleLocator(1000))\n",
    "    ax1.xaxis.set_major_locator(MultipleLocator(4000))\n",
    "    ax1.set_ylabel('O-C (d)')\n",
    "    ax1.set_xlabel('HJED (-2,400,000.0)', fontsize='medium')\n",
    "elif mode == 2:\n",
    "    # Plot fit from Marchioni 2018\n",
    "    x = N.linspace(N.min(tE), N.max(tE)+5000, 1000)\n",
    "#    y = -150.8*N.sin(2*N.pi/(35.22*365.25)*(x + 41.5/(3600*24.)))\n",
    "#    ax1.plot(x-constant, y, 'brown')\n",
    "    #\n",
    "    ax1.set_ylim((-200,200))\n",
    "    ax1.yaxis.set_major_locator(MultipleLocator(100))\n",
    "    ax1.yaxis.set_minor_locator(MultipleLocator(20))\n",
    "    ax1.xaxis.set_minor_locator(MultipleLocator(1000))\n",
    "    ax1.xaxis.set_major_locator(MultipleLocator(5000))\n",
    "    ax1.set_ylabel('O-C (s)')\n",
    "    ax1.set_xlabel('HJED (-2,440,000.0)', fontsize='medium')\n",
    "    \n",
    "# Observed times\n",
    "ax1.scatter(t02-constant, est_amp*N.sin(2*N.pi/est_period*(t02 + est_phase))+est_offset, color='g', s=150, marker='o',  label='2002')\n",
    "ax1.scatter(t04-constant, est_amp*N.sin(2*N.pi/est_period*(t04 + est_phase))+est_offset, color='r', s=150, marker='o',  label='2004')\n",
    "ax1.scatter(t05-constant, est_amp*N.sin(2*N.pi/est_period*(t05 + est_phase))+est_offset, color='b', s=150, marker='o',  label='2005')\n",
    "ax1.scatter(t14-constant, est_amp*N.sin(2*N.pi/est_period*(t14 + est_phase))+est_offset, color='orange', s=150, marker='o',  label='2014')\n",
    "#ax1.scatter(t15-constant, est_amp*N.sin(2*N.pi/est_period*(t15 + est_phase))+est_offset, color='olive', s=150, marker='o',  label='2015')\n",
    "ax1.scatter(t21-constant, est_amp*N.sin(2*N.pi/est_period*(t21 + est_phase))+est_offset, color='m', s=150, marker='o',  label='2021')\n",
    "\n",
    "# our basic sinoidal fit:\n",
    "ax1.plot(x-constant, est_amp*N.sin(2*N.pi/est_period*(x + est_phase))+est_offset, '--c', lw=3, label=\"Sin fit o-c\")    \n",
    "#ax1.plot(x-constant, est_amp*N.sin(2*N.pi/est_period*(x + est_phase)-N.pi/2)+est_offset, '--k', lw=3, label=\"$\\Delta$P\")    \n",
    "#ax1.plot(x-constant, est_amp*N.sin(2*N.pi/est_period*(x + est_phase)+N.pi/2)+est_offset, '--g', lw=3, label=\"$\\Delta\\Omega/\\Omega_0$\")    \n",
    "\n",
    "\n",
    "# K2 data:  in TT  \n",
    "ax1.scatter(2457085.200893-constant, 49., c='k', marker='x', alpha=2./3)\n",
    "\n",
    "\n",
    "\n",
    "P.legend(fontsize='medium', loc='lower left', frameon=True)\n",
    "P.grid(True)\n",
    "P.tight_layout()\n",
    "P.savefig('/Users/bzaire/Reports/figs/oc_obs.pdf', bbox_inches='tight')\n",
    "P.show()"
   ]
  },
  {
   "cell_type": "markdown",
   "metadata": {},
   "source": [
    "---"
   ]
  },
  {
   "cell_type": "markdown",
   "metadata": {},
   "source": [
    "## Based on our $\\phi_0$ measurements"
   ]
  },
  {
   "cell_type": "code",
   "execution_count": null,
   "metadata": {},
   "outputs": [],
   "source": [
    "fig, ax1 = P.subplots(figsize=(6,4), dpi=100)\n",
    "\n",
    "\n",
    "# plot oc\n",
    "ax1.scatter(tE-constant,oc, marker='x', c='k', alpha=2./3)\n",
    "ax1.plot(x-constant, (est_amp*N.sin(2*N.pi/est_period*(x + est_phase)))+est_offset, '--c', lw=3, alpha=2./3)    \n",
    "\n",
    "# K2 data:  in TT  \n",
    "ax1.scatter(2457085.200893-constant, 49., c='k', marker='x', alpha=2./3)\n",
    "\n",
    "# Observed times:  label=r'$\\phi_0 \\times \\mathrm{P_0}$'\n",
    "ax1.scatter(t02-constant, (Prot*24*3600.)*0.0035, color='g', s=150, marker='o',  label='2002')\n",
    "ax1.scatter(t04-constant, (Prot*24*3600.)*0.0040, color='r', s=150, marker='o',  label='2004')\n",
    "ax1.scatter(t05-constant, (Prot*24*3600.)*0.0035, color='b', s=150, marker='o',  label='2005')\n",
    "ax1.scatter(t14-constant, (Prot*24*3600.)*0.0025, color='orange', s=150, marker='o',  label='2014')\n",
    "\n",
    "\n",
    "\n",
    "ax1.set_ylim((-200,200))\n",
    "ax1.yaxis.set_major_locator(MultipleLocator(100))\n",
    "ax1.yaxis.set_minor_locator(MultipleLocator(20))\n",
    "ax1.xaxis.set_minor_locator(MultipleLocator(1000))\n",
    "ax1.xaxis.set_major_locator(MultipleLocator(5000))\n",
    "ax1.set_ylabel('O-C (s)')\n",
    "ax1.set_xlabel('HJED (-2,440,000.0)', fontsize='medium')\n",
    "\n",
    "P.legend(fontsize='large', loc='lower left', frameon=True, title=r'$\\phi_0 \\times \\mathrm{P_0}$')\n",
    "P.grid(True)\n",
    "\n",
    "P.tight_layout()\n",
    "P.show()"
   ]
  },
  {
   "cell_type": "markdown",
   "metadata": {},
   "source": [
    "> Correlated ??"
   ]
  },
  {
   "cell_type": "code",
   "execution_count": null,
   "metadata": {},
   "outputs": [],
   "source": [
    "fig, ax1 = P.subplots(figsize=(6,4), dpi=100)\n",
    "\n",
    "ax1.scatter(est_amp*N.sin(2*N.pi/est_period*(t02 + est_phase))+est_offset, (Prot*24*3600.)*0.0035, color='g', s=150, marker='o',  label='2002')\n",
    "ax1.scatter(est_amp*N.sin(2*N.pi/est_period*(t04 + est_phase))+est_offset, (Prot*24*3600.)*0.0040, color='r', s=150, marker='o',  label='2004')\n",
    "ax1.scatter(est_amp*N.sin(2*N.pi/est_period*(t05 + est_phase))+est_offset, (Prot*24*3600.)*0.0035, color='b', s=150, marker='o',  label='2005')\n",
    "ax1.scatter(est_amp*N.sin(2*N.pi/est_period*(t14 + est_phase))+est_offset, (Prot*24*3600.)*0.0025, color='orange', s=150, marker='o',  label='2014')\n",
    "\n",
    "ax1.set_xlabel(r'o-c', fontsize='medium', labelpad=10)\n",
    "ax1.set_ylabel(r'$\\phi_0\\times P_0$', fontsize='medium', labelpad=10)\n",
    "ax1.set_aspect('equal')\n",
    "ax1.set_xlim(0.,200)\n",
    "ax1.set_ylim(0.,200)\n",
    "P.legend(fontsize='medium', frameon=True, loc='lower right')\n",
    "P.show()"
   ]
  },
  {
   "cell_type": "markdown",
   "metadata": {},
   "source": [
    "# Predicted curves for $\\propto \\frac{dP}{P}$ and $\\Delta\\Omega/\\Omega_0$ under the Applegate framework  "
   ]
  },
  {
   "cell_type": "code",
   "execution_count": null,
   "metadata": {},
   "outputs": [],
   "source": [
    "fig, ax1 = P.subplots(figsize=(6,4), dpi=100)\n",
    "\n",
    "\n",
    "ax1.plot(x-constant, est_amp*N.sin(2*N.pi/est_period*(x + est_phase)-N.pi/2)+est_offset, ls='--', c='indigo', lw=3, label=\"$\\propto \\Delta P/P_0$\")    \n",
    "ax1.plot(x-constant, est_amp*N.sin(2*N.pi/est_period*(x + est_phase)+N.pi/2)+est_offset, '--g', lw=3, label=\"$\\propto \\Delta\\Omega/\\Omega_0$\")    \n",
    "\n",
    "\n",
    "\n",
    "# plot oc\n",
    "ax1.scatter(tE-constant, oc, marker='x', c='k', alpha=2./3, label='o-c')\n",
    "\n",
    "# K2 data:  in TT  \n",
    "ax1.scatter(2457085.200893-constant, 49., c='k', marker='x', alpha=2./3)\n",
    "\n",
    "ax1.set_ylim((-200,200))\n",
    "ax1.yaxis.set_major_locator(MultipleLocator(100))\n",
    "ax1.yaxis.set_minor_locator(MultipleLocator(20))\n",
    "ax1.xaxis.set_minor_locator(MultipleLocator(1000))\n",
    "ax1.xaxis.set_major_locator(MultipleLocator(5000))\n",
    "ax1.set_ylabel('O-C (s)')\n",
    "ax1.set_xlabel('HJED (-2,440,000.0)', fontsize='medium')\n",
    "    \n",
    "P.legend(fontsize='medium', loc='upper right', frameon=True)\n",
    "\n",
    "\n",
    "P.grid(True)\n",
    "\n",
    "P.tight_layout()\n",
    "P.show()\n",
    "\n"
   ]
  },
  {
   "cell_type": "markdown",
   "metadata": {},
   "source": [
    "## Overlaping our shear measurements"
   ]
  },
  {
   "cell_type": "code",
   "execution_count": null,
   "metadata": {},
   "outputs": [],
   "source": [
    "# Shears obtained for each data set\n",
    "dO02 = 1.6; dO02err=6; \n",
    "Oeq02 = 12.0547\n",
    "\n",
    "dO04 = N.array((100, 129)); dO04err = N.array((5, 23)) # from stokes I and V respectively\n",
    "Oeq04 = N.array((12.106, 12.116))\n",
    "\n",
    "\n",
    "dO05 = N.array((73, 48)); dO05err = N.array((2, 12))\n",
    "Oeq05 = N.array((12.091, 12.083))\n",
    "\n",
    "\n",
    "dO14 = N.array((69, 45)); dO04err = N.array((1,3))\n",
    "Oeq14 = N.array((12.087, 12.077))\n",
    "\n",
    "\n",
    "# Vector with shear values\n",
    "dO = N.array([dO02, dO04[0], dO04[1], dO05[0], dO05[1], dO14[0], dO14[1]])\n",
    "\n",
    "# Time of observations in TT\n",
    "time =  N.array([2452602.00000,2453337.87674,2453337.87674,2453718.72517,2453718.72517, 2457021.96287, 2457021.96287])\n",
    "time -= constant"
   ]
  },
  {
   "cell_type": "code",
   "execution_count": null,
   "metadata": {},
   "outputs": [],
   "source": [
    "fig, ax1 = P.subplots(figsize=(6,4), dpi=100)\n",
    "\n",
    "# SHEAR VARIATION\n",
    "ax1.plot(x-constant, est_amp*N.sin(2*N.pi/est_period*(x + est_phase)+N.pi/2)+est_offset, '--g', lw=3, label=\"$\\propto \\Delta\\Omega/\\Omega_0$\")    \n",
    "\n",
    "# plot oc\n",
    "ax1.scatter(tE-constant, oc, marker='x', c='k', alpha=2./3, label='o-c')\n",
    "# K2 data:  in TT  \n",
    "ax1.scatter(2457085.200893-constant, 49., c='k', marker='x', alpha=2./3)\n",
    "\n",
    "\n",
    "ax1.set_ylim((-200,200))\n",
    "ax1.yaxis.set_major_locator(MultipleLocator(100))\n",
    "ax1.yaxis.set_minor_locator(MultipleLocator(20))\n",
    "ax1.xaxis.set_minor_locator(MultipleLocator(1000))\n",
    "ax1.xaxis.set_major_locator(MultipleLocator(5000))\n",
    "ax1.set_ylabel('O-C (s)')\n",
    "ax1.set_xlabel('HJED (-2,440,000.0)', fontsize='medium')\n",
    "    \n",
    "P.legend(fontsize='large', loc='upper right', frameon=True)\n",
    "\n",
    "\n",
    "ax2 = ax1.twinx()\n",
    "# measurements:\n",
    "ax2.scatter(t02-constant, dO02, color='g', s=150, marker='o',  label='2002')\n",
    "ax2.scatter((t04-constant,)*2, dO04, color='r', s=150, marker='o',  label='2004')\n",
    "ax2.scatter((t05-constant,)*2, dO05, color='b', s=150, marker='o',  label='2005')\n",
    "ax2.scatter((t14-constant,)*2, dO14, color='orange', s=150, marker='o',  label='2014')\n",
    "ax2.set_ylabel(r'$\\Delta\\Omega$ (mrad/d)', fontsize='large', color='k', rotation=270, labelpad=15)\n",
    "\n",
    "\n",
    "\n",
    "\n",
    "ax2.set_ylim((-200,200))\n",
    "\n",
    "\n",
    "\n",
    "P.legend(fontsize='large', loc='lower left', frameon=True, title=r'$\\Delta\\Omega$')\n",
    "\n",
    "P.grid(True)\n",
    "\n",
    "P.tight_layout()\n",
    "P.show()"
   ]
  },
  {
   "cell_type": "markdown",
   "metadata": {},
   "source": [
    "## Overlaping relative shears"
   ]
  },
  {
   "cell_type": "code",
   "execution_count": null,
   "metadata": {},
   "outputs": [],
   "source": [
    "fig, ax1 = P.subplots(figsize=(6,4), dpi=100)\n",
    "\n",
    "# SHEAR VARIATION\n",
    "ax1.plot(x-constant, est_amp*N.sin(2*N.pi/est_period*(x + est_phase)+N.pi/2)+est_offset, '--g', lw=3, label=\"$\\propto \\Delta\\Omega/\\Omega_0$\")    \n",
    "\n",
    "# plot oc\n",
    "ax1.scatter(tE-constant, oc, marker='x', c='k', alpha=2./3, label='o-c')\n",
    "# K2 data:  in TT  \n",
    "ax1.scatter(2457085.200893-constant, 49., c='k', marker='x', alpha=2./3)\n",
    "\n",
    "\n",
    "ax1.set_ylim((-200,200))\n",
    "ax1.yaxis.set_major_locator(MultipleLocator(100))\n",
    "ax1.yaxis.set_minor_locator(MultipleLocator(20))\n",
    "ax1.xaxis.set_minor_locator(MultipleLocator(1000))\n",
    "ax1.xaxis.set_major_locator(MultipleLocator(5000))\n",
    "ax1.set_ylabel('O-C (s)')\n",
    "ax1.set_xlabel('HJED (-2,440,000.0)', fontsize='medium')\n",
    "    \n",
    "P.legend(fontsize='large', loc='upper right', frameon=True)\n",
    "\n",
    "\n",
    "\n",
    "ax2 = ax1.twinx()\n",
    "# measurements:\n",
    "ax2.scatter(t02-constant, 1.e-1*dO02/Oeq02, color='g', s=150, marker='o',  label='2002')\n",
    "ax2.scatter((t04-constant,)*2, 1.e-1*dO04/Oeq04, color='r', s=150, marker='o',  label='2004')\n",
    "ax2.scatter((t05-constant,)*2, 1.e-1*dO05/Oeq05, color='b', s=150, marker='o',  label='2005')\n",
    "ax2.scatter((t14-constant,)*2, 1.e-1*dO14/Oeq14, color='orange', s=150, marker='o',  label='2014')\n",
    "ax2.set_ylabel(r'$\\Delta\\Omega/\\Omega_0\\,(\\%)$', fontsize='large', color='k', rotation=270, labelpad=15)\n",
    "\n",
    "\n",
    "\n",
    "P.legend(fontsize='large', loc='lower left', frameon=True, title=r'$\\Delta\\Omega/\\Omega_0$')\n",
    "\n",
    "\n",
    "ax2.set_ylim((-2,2))\n",
    "\n",
    "\n",
    "\n",
    "P.grid(True)\n",
    "\n",
    "P.tight_layout()\n",
    "P.show()"
   ]
  },
  {
   "cell_type": "markdown",
   "metadata": {},
   "source": [
    "# Testing the energy ratio"
   ]
  },
  {
   "cell_type": "code",
   "execution_count": null,
   "metadata": {},
   "outputs": [],
   "source": [
    "fig, ax1 = P.subplots(figsize=(6,4), dpi=100)\n",
    "# plot oc\n",
    "ax1.scatter(tE-constant, oc, marker='x', c='k', alpha=2./3, label='o-c')\n",
    "ax1.set_ylim((-200,200))\n",
    "ax1.set_ylabel(r\"o-c\", fontsize='x-large', labelpad=10)\n",
    "    \n",
    "ax2 = ax1.twinx()\n",
    "ax2.scatter(t04-constant, [65], c='r',s=150)\n",
    "ax2.scatter(t05-constant, [60], c='b',s=150)\n",
    "ax2.scatter(t14-constant, [80], c='orange', s=150)\n",
    "ax2.plot(x-constant, N.abs(30*N.sin(2*N.pi/est_period*(x + est_phase)-N.pi/2))+50, c='olive', ls='--', lw=3, alpha=2./3, label=r\"$e_\\mathrm{pol}(e_\\mathrm{tot})$\")    \n",
    "ax2.set_ylabel(r'$e_\\mathrm{pol}(e_\\mathrm{tot})$', fontsize='large', color='olive', rotation=270, labelpad=15)\n",
    "ax2.tick_params(axis='y', labelcolor='olive')\n",
    "ax2.set_ylim((0.2,90.))    \n",
    "   \n",
    "    \n",
    "P.legend(fontsize='medium', loc='lower right', frameon=True)\n",
    "P.grid(True)\n",
    "\n",
    "P.tight_layout()\n",
    "P.show()"
   ]
  },
  {
   "cell_type": "code",
   "execution_count": null,
   "metadata": {},
   "outputs": [],
   "source": []
  }
 ],
 "metadata": {
  "kernelspec": {
   "display_name": "Python 3",
   "language": "python",
   "name": "python3"
  },
  "language_info": {
   "codemirror_mode": {
    "name": "ipython",
    "version": 3
   },
   "file_extension": ".py",
   "mimetype": "text/x-python",
   "name": "python",
   "nbconvert_exporter": "python",
   "pygments_lexer": "ipython3",
   "version": "3.7.2"
  },
  "latex_envs": {
   "LaTeX_envs_menu_present": true,
   "autoclose": false,
   "autocomplete": true,
   "bibliofile": "biblio.bib",
   "cite_by": "apalike",
   "current_citInitial": 1,
   "eqLabelWithNumbers": true,
   "eqNumInitial": 1,
   "hotkeys": {
    "equation": "Ctrl-E",
    "itemize": "Ctrl-I"
   },
   "labels_anchors": false,
   "latex_user_defs": false,
   "report_style_numbering": false,
   "user_envs_cfg": false
  }
 },
 "nbformat": 4,
 "nbformat_minor": 2
}
