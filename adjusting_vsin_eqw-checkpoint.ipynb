{
 "cells": [
  {
   "cell_type": "markdown",
   "metadata": {},
   "source": [
    "# Adjusting $v\\sin(i)$ and the equivalent width "
   ]
  },
  {
   "cell_type": "markdown",
   "metadata": {},
   "source": [
    "Fixed quantities: \n",
    "\n",
    "|           Parameter   | 2004       |  2005     |\n",
    "|              :---:    | :---:      | :---:     |\n",
    "|$K$ (km/s)             | $149.4$    | $149.4$   |  \n",
    "|$v_\\mathrm{rad}$ (km/s)| $34.7$     | $35.0$    |\n",
    "|$\\phi$                 | $-0.0029$  | $-0.0041$ |    "
   ]
  },
  {
   "cell_type": "markdown",
   "metadata": {},
   "source": [
    "# 2004:        "
   ]
  },
  {
   "cell_type": "markdown",
   "metadata": {},
   "source": [
    "* We start at fixed $v\\sin(i) = 89.7$ km/s, which is the value used in the 3d-exploration:\n",
    "    * For this value, the best equivalent width is 5.13 (see file \"search1_eqw_2004.txt\" inside data's folder);\n",
    "* We then use this equivalent width to find the best $v\\sin(i)$ (see file \"search1_vsin_2004.txt\"):\n",
    "    * Maximizing the entropy, we got $v\\sin(i) = 90.1$ km/s;\n",
    "    * Minimizing the spot coverage, we got $v\\sin(i) = 90.2$ km/s;\n",
    "* Taking the value of maximum entropy, $v\\sin(i) = 90.1$ km/s, we repeat the first search:\n",
    "    * The best equivalent width is 5.12 (see file \"search2_eqw_2004.txt\");"
   ]
  },
  {
   "cell_type": "markdown",
   "metadata": {},
   "source": [
    "# 2005:        \n",
    "\n",
    "Repeating the same procedure in 2005:"
   ]
  },
  {
   "cell_type": "markdown",
   "metadata": {},
   "source": [
    "* We start at fixed $v\\sin(i) = 89.7$ km/s:\n",
    "    * For this value, the best equivalent width is 5.12 (see file \"search1_eqw_2005.txt\" inside data's folder);\n",
    "* We then use this equivalent width to find the best $v\\sin(i)$ (see file \"search1_vsin_2005.txt\"):\n",
    "    * Maximizing the entropy, we got $v\\sin(i) = 90.0$ km/s;\n",
    "    * Minimizing the spot coverage, we got $v\\sin(i) = 90.3$ km/s;\n",
    "* Taking the value of maximum entropy, $v\\sin(i) = 90.0$ km/s, we repeat the first search:\n",
    "    * The best equivalent width is 5.12 (see file \"search2_eqw_2005.txt\");\n",
    "    \n",
    "Because we want to match the value of $v\\sin(i)$ at both epochs, and because the value found in the second step in $2005$ includes the range in $2004$, we chose to fix it to 90.1 km/s.\n",
    "\n",
    "* Taking the value of maximum entropy, $v\\sin(i) = 90.1$ km/s, we repeat the first search:\n",
    "    * The best equivalent width is 5.12;\n"
   ]
  },
  {
   "cell_type": "markdown",
   "metadata": {},
   "source": [
    "-----"
   ]
  },
  {
   "cell_type": "markdown",
   "metadata": {},
   "source": [
    "Coincidently, the equivalent width at $v\\sin(i)$ = $90.1$km/s is the same in $2004$ and $2005$.\n",
    "\n",
    "\n",
    "|     Parameter   | 2004       |  2005     |\n",
    "|        :---:    | :---:      | :---:     |\n",
    "|EQW              | $5.12$     | $5.12$    |  \n",
    "|$v\\sin(i)$ (km/s)| $90.1$     | $90.1$    |"
   ]
  }
 ],
 "metadata": {
  "kernelspec": {
   "display_name": "Python 3",
   "language": "python",
   "name": "python3"
  },
  "language_info": {
   "codemirror_mode": {
    "name": "ipython",
    "version": 3
   },
   "file_extension": ".py",
   "mimetype": "text/x-python",
   "name": "python",
   "nbconvert_exporter": "python",
   "pygments_lexer": "ipython3",
   "version": "3.7.2"
  },
  "latex_envs": {
   "LaTeX_envs_menu_present": true,
   "autoclose": false,
   "autocomplete": true,
   "bibliofile": "biblio.bib",
   "cite_by": "apalike",
   "current_citInitial": 1,
   "eqLabelWithNumbers": true,
   "eqNumInitial": 1,
   "hotkeys": {
    "equation": "Ctrl-E",
    "itemize": "Ctrl-I"
   },
   "labels_anchors": false,
   "latex_user_defs": false,
   "report_style_numbering": false,
   "user_envs_cfg": false
  }
 },
 "nbformat": 4,
 "nbformat_minor": 2
}
