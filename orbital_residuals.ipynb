{
 "cells": [
  {
   "cell_type": "markdown",
   "metadata": {},
   "source": [
    "#### Search orbital parameters (w/ residuals)\n",
    "# 2004 : K = 149.3;  V$_\\gamma$ = 35; $\\phi$ = 0.0040\n",
    "> ![](figs/dynamic_2004_K149.3_P0.0040_Vg35.png) \n",
    "# 2005 : K = 149.3;  V$_\\gamma$ = 35; $\\phi$ = 0.0035\n",
    "> ![](figs/dynamic_2005_K149.3_P0.0035_Vg35.png) \n",
    "\n",
    "\n",
    "\n",
    "\n",
    "------\n",
    "\n",
    "------\n",
    "\n",
    "------\n",
    "\n",
    "\n",
    "__OTHER ATTEMPTS__\n",
    "\n",
    "\n",
    "#### 1. Fixed $v_\\gamma = 35.0$ km/s:\n",
    "- _Reducing K alleviate the opposite blobs existent at phases 0.15 and 0.85_ \n",
    "\n",
    " - K = 150.25 km/s:  \n",
    "![K = 150.25; Vgamma = 35.0](figs/dynamic_150.250p0.004100v35.000.png) \n",
    " - K = 149.6 km/s:  \n",
    "![K = 149.6; Vgamma = 35.0](figs/dynamic_149.600p0.004100v35.000.png) \n",
    " - K = 149.3 km/s:  **Current value for K**   \n",
    "![K = 149.3; Vgamma = 35.0](figs/dynamic_149.300p0.004100v35.000.png)   \n",
    " - K = 149.0 km/s:  **Current value for K**   \n",
    "![K = 149.0; Vgamma = 35.0](figs/dynamic_149.000p0.004100v35.000.png)  \n",
    " - K = 148.70 km/s  \n",
    "![K = 148.70; Vgamma = 35.0](figs/dynamic_148.700p0.004100v35.000.png)\n",
    " - K = 148.45 km/s  \n",
    "![K = 148.45; Vgamma = 35.0](figs/dynamic_148.450p0.004100v35.000.png)  \n",
    "\n",
    "#### 2. Fixed $v_\\gamma = 34.80$ km/s\n",
    "\n",
    " - K = 149.3 km/s\n",
    "![K = 149.3; Vgamma = 34.80](figs/dynamic_149.300p0.004200v34.800.png)  \n",
    "\n",
    " - K = 148.70 km/s\n",
    "![K = 148.70; Vgamma = 34.80](figs/dynamic_148.700p0.004200v34.800.png)  \n",
    "\n",
    " - K = 148.45 km/s\n",
    "![K = 148.45; Vgamma = 34.80](figs/dynamic_148.450p0.004200v34.800.png)  \n",
    "\n",
    " - K = 147.75 km/s\n",
    "![K = 147.75; Vgamma = 34.80](figs/dynamic_147.750p0.004200v34.800.png)  \n",
    "\n",
    "\n",
    "#### 3. Fixed $v_\\gamma = 34.59$ km/s: **Current value for $V\\gamma$** \n",
    "\n",
    " - K = 149.8 km/s  \n",
    "![K = 149.8; Vgamma = 34.59](figs/dynamic_149.800p0.004100v34.590.png)  \n",
    ">  K = 149.3 km/s  (**OUR INITIAL SEARCH**)   \n",
    "> ![K = 149.3; Vgamma = 34.59](figs/dynamic_149.300p0.004100v34.590.png)    \n",
    " - K = 148.45 km/s  \n",
    " ![K = 148.45; Vgamma = 34.59](figs/dynamic_148.450p0.004100v34.590.png)  \n",
    "\n",
    " - K = 147.00 km/s  \n",
    "![K = 147.00; Vgamma = 34.59](figs/dynamic_147.000p0.004100v34.590.png)  \n",
    "\n",
    "_____"
   ]
  },
  {
   "cell_type": "markdown",
   "metadata": {},
   "source": [
    "## K = 149.3 km/s:           **_Current value_ !!**   \n",
    "  - $v_\\gamma = 35.0$ km/s\n",
    "![K = 149.3; Vgamma = 35.0](figs/dynamic_149.300p0.004100v35.000.png)   \n",
    "\n",
    "  - $v_\\gamma = 34.80$ km/s\n",
    "![K = 149.3; Vgamma = 34.80](figs/dynamic_149.300p0.004200v34.800.png)  \n",
    "\n",
    " -  $v_\\gamma = 34.59$ km/s: **Current value for $V\\gamma$** \n",
    "![K = 149.3; Vgamma = 34.59](figs/dynamic_149.300p0.004100v34.590.png)   "
   ]
  },
  {
   "cell_type": "markdown",
   "metadata": {},
   "source": [
    "## K = 148.45 km/s:    \n",
    " - $v_\\gamma = 35.0$ km/s\n",
    "![K = 148.45; Vgamma = 35.0](figs/dynamic_148.450p0.004100v35.000.png) \n",
    "\n",
    " - $v_\\gamma = 34.80$ km/s\n",
    "![K = 148.45; Vgamma = 34.80](figs/dynamic_148.450p0.004200v34.800.png)  \n",
    "\n",
    "-  $v_\\gamma = 34.59$ km/s: **Current value for $V\\gamma$** \n",
    "![K = 148.45; Vgamma = 34.59](figs/dynamic_148.450p0.004100v34.590.png)    \n",
    "\n",
    "  \n",
    "\n"
   ]
  },
  {
   "cell_type": "code",
   "execution_count": null,
   "metadata": {},
   "outputs": [],
   "source": []
  }
 ],
 "metadata": {
  "kernelspec": {
   "display_name": "Python 3",
   "language": "python",
   "name": "python3"
  },
  "language_info": {
   "codemirror_mode": {
    "name": "ipython",
    "version": 3
   },
   "file_extension": ".py",
   "mimetype": "text/x-python",
   "name": "python",
   "nbconvert_exporter": "python",
   "pygments_lexer": "ipython3",
   "version": "3.7.2"
  },
  "latex_envs": {
   "LaTeX_envs_menu_present": true,
   "autoclose": false,
   "autocomplete": true,
   "bibliofile": "biblio.bib",
   "cite_by": "apalike",
   "current_citInitial": 1,
   "eqLabelWithNumbers": true,
   "eqNumInitial": 1,
   "hotkeys": {
    "equation": "Ctrl-E",
    "itemize": "Ctrl-I"
   },
   "labels_anchors": false,
   "latex_user_defs": false,
   "report_style_numbering": false,
   "user_envs_cfg": false
  }
 },
 "nbformat": 4,
 "nbformat_minor": 2
}
