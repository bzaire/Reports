{
 "cells": [
  {
   "cell_type": "markdown",
   "metadata": {},
   "source": [
    "#### Search orbital parameters (w/ residuals)"
   ]
  },
  {
   "cell_type": "markdown",
   "metadata": {},
   "source": [
    "#### 1. Fixed $v_\\gamma = 34.59$ km/s: **Current value for $V\\gamma$** \n",
    " - K = 148.45 km/s  \n",
    "![K = 148.45; Vgamma = 34.59](figs/dynamic_k14845_vg3459.png)  \n",
    ">  K = 149.3 km/s  (**OUR INITIAL SEARCH**)   \n",
    "> ![K = 149.3; Vgamma = 34.59](figs/dynamic_k1493_vg3459.png)    \n",
    " - K = 149.8 km/s  \n",
    "![K = 149.8; Vgamma = 34.59](figs/dynamic_k1498_vg3459.png)  \n",
    "\n",
    "#### 2. Fixed $v_\\gamma = 35.0$ km/s: **_Higher than our choice of 34.59 km/s_**\n",
    " - K = 148.45 km/s  \n",
    "![K = 148.45; Vgamma = 35.0](figs/dynamic_k14845_vg35.png)  \n",
    " - K = 149.3 km/s:  **Current value for K**   \n",
    "![K = 149.3; Vgamma = 35.0](figs/dynamic_k1493_vg35.png)   \n",
    " - K = 149.6 km/s:  \n",
    "![K = 149.6; Vgamma = 35.0](figs/dynamic_k1496_vg35.png)   \n",
    "\n",
    "\n",
    "#### 3. Fixed $v_\\gamma = 35.7$ km/s: **_Higher than our choice of 34.59 km/s_**\n",
    " - K = 148.45 km/s    \n",
    "![K = 148.45; Vgamma = 35.7](figs/dynamic_k14845_vg357.png)    \n",
    " - K = 149.3 km/s:  **Current value for K**   \n",
    "![K = 149.3; Vgamma = 35.7](figs/dynamic_k1493_vg357.png)   \n",
    " - K = 149.8 km/s     (**VACARRO**)  \n",
    "![K = 149.8; Vgamma = 35.7](figs/dynamic_k1498_vg357.png)  \n",
    " - K = 150 km/s  \n",
    "![K = 150; Vgamma = 35.7](figs/dynamic_k150_vg357.png)  "
   ]
  },
  {
   "cell_type": "code",
   "execution_count": null,
   "metadata": {},
   "outputs": [],
   "source": []
  }
 ],
 "metadata": {
  "kernelspec": {
   "display_name": "Python 3",
   "language": "python",
   "name": "python3"
  },
  "language_info": {
   "codemirror_mode": {
    "name": "ipython",
    "version": 3
   },
   "file_extension": ".py",
   "mimetype": "text/x-python",
   "name": "python",
   "nbconvert_exporter": "python",
   "pygments_lexer": "ipython3",
   "version": "3.7.2"
  }
 },
 "nbformat": 4,
 "nbformat_minor": 2
}
