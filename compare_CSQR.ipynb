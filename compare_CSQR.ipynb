{
 "cells": [
  {
   "cell_type": "markdown",
   "metadata": {},
   "source": [
    "# Comparison of different $\\chi^2$ "
   ]
  },
  {
   "cell_type": "markdown",
   "metadata": {},
   "source": [
    "We use the best orbital parameters found at each epoch (see table below) to compare the results at different $\\chi^2_{aim}$. "
   ]
  },
  {
   "cell_type": "markdown",
   "metadata": {},
   "source": [
    "\n",
    "|           Parameter   |2004   |  2005 |\n",
    "|                ---    |---    |---    |\n",
    "|$K$ (km/s)             | 149.4 | 149.4 |  \n",
    "|$v_\\mathrm{rad}$ (km/s)| 34.7  | 35.0  |\n",
    "|$\\phi$                 |-0.0029|-0.0041|    \n",
    "\n"
   ]
  },
  {
   "cell_type": "markdown",
   "metadata": {},
   "source": [
    "---"
   ]
  },
  {
   "cell_type": "markdown",
   "metadata": {},
   "source": [
    "# DATA IN 2004\n",
    "\n",
    " $\\chi^2 = 0.32$           |  $\\chi^2 = 0.35$\n",
    ":-------------------------:|:-------------------------:\n",
    "![](figs/compare_chisqs/stokes_I_2004_32.png) | ![](figs/compare_chisqs/stokes_I_2004_35.png)\n",
    " \n",
    " \n",
    " $\\chi^2 = 0.32$           |  $\\chi^2 = 0.35$\n",
    ":-------------------------:|:-------------------------:\n",
    "rms residual = $0.400$ km/s|  rms residual = $0.405$ km/s\n",
    "![](figs/compare_chisqs/rvs_2004_32.png) | ![](figs/compare_chisqs/rvs_2004_35.png)\n",
    "![](figs/compare_chisqs/brightness_2004_32.png) |![](figs/compare_chisqs/brightness_2004_35.png)"
   ]
  },
  {
   "cell_type": "markdown",
   "metadata": {},
   "source": [
    "# DATA IN 2005\n",
    "\n",
    " $\\chi^2 = 0.32$           |  $\\chi^2 = 0.35$\n",
    ":-------------------------:|:-------------------------:\n",
    "![](figs/compare_chisqs/stokes_I_2005_32.png) | ![](figs/compare_chisqs/stokes_I_2005_35.png)\n",
    "\n",
    " $\\chi^2 = 0.32$           |  $\\chi^2 = 0.35$\n",
    ":-------------------------:|:-------------------------:\n",
    "rms residual = $0.384$ km/s|  rms residual = $0.382$ km/s\n",
    "![](figs/compare_chisqs/rvs_2005_32.png) | ![](figs/compare_chisqs/rvs_2005_35.png)\n",
    "![](figs/compare_chisqs/brightness_2005_32.png) |![](figs/compare_chisqs/brightness_2005_35.png)"
   ]
  }
 ],
 "metadata": {
  "kernelspec": {
   "display_name": "Python 3",
   "language": "python",
   "name": "python3"
  },
  "language_info": {
   "codemirror_mode": {
    "name": "ipython",
    "version": 3
   },
   "file_extension": ".py",
   "mimetype": "text/x-python",
   "name": "python",
   "nbconvert_exporter": "python",
   "pygments_lexer": "ipython3",
   "version": "3.7.2"
  },
  "latex_envs": {
   "LaTeX_envs_menu_present": true,
   "autoclose": false,
   "autocomplete": true,
   "bibliofile": "biblio.bib",
   "cite_by": "apalike",
   "current_citInitial": 1,
   "eqLabelWithNumbers": true,
   "eqNumInitial": 1,
   "hotkeys": {
    "equation": "Ctrl-E",
    "itemize": "Ctrl-I"
   },
   "labels_anchors": false,
   "latex_user_defs": false,
   "report_style_numbering": false,
   "user_envs_cfg": false
  }
 },
 "nbformat": 4,
 "nbformat_minor": 2
}
