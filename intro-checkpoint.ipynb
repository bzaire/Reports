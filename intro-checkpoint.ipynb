{
 "cells": [
  {
   "cell_type": "markdown",
   "metadata": {},
   "source": [
    "# V471TAU\n",
    "\n",
    "V471Tau is a eclipsing binary system member of the $625\\mathrm{Myrs}$ old Hyades open cluster (Perryman et al. 1998). It is composed by a K dwarf MS star and a white dwarf.\n",
    "\n",
    "The orbital motion of secondary star is given by:\n",
    "\\begin{equation} \\label{eq:v_shift}\n",
    "    V = K\\sin\\left[\\frac{2\\pi}{P_\\mathrm{rot}}(t - t_o + \\phi)\\right] + v_\\mathrm{rad},\n",
    "\\end{equation} where $K$ is the semi-amplitude, $P_\\mathrm{rot}$ is the period of rotation around the primary star (the white dwarf), and $v_\\mathrm{rad}$ is the radial velocity of the binary system. In this work we use the ephemeris by Vaccaro et al. (2015), $t_o(\\mathrm{min} \\; I) = \\mathrm{HJED}\\; 2445821.898291 + 0.5211833875\\mathrm{E}$.\n",
    "\n",
    "- For different periods read: O'Brien et al. (2001); Kundra \\& Hric 2011\n",
    "\n",
    "## Spectropolarimetric observations of V471Tau \n",
    "\n",
    "We used the ESPaDOnS instrument on the Canada France Hawaii Telescope (CFHT) to observe the K-dwarf star. ESPaDOnS collect circularly polarized spectra (Stokes $V$) and intensity spectra (Stokes $I$) covering wavelengths from $370$ to $1,000\\mathrm{nm}$ at a resolving power of $65,000$ (ref. --). Data spans in two different epochs: November 2004 (three nights) and December 2005 (four nights). They correspond respectively to a total of 58 and 102 circularly polarized spectra, each one acquired in $200\\mathrm{s}$ of observation. "
   ]
  },
  {
   "cell_type": "code",
   "execution_count": 16,
   "metadata": {},
   "outputs": [
    {
     "data": {
      "text/html": [
       "\n",
       "<div id=\"wrapper\"> \n",
       "    <video id=\"2004\" width=\"40%\" controls>\n",
       "            <p>Content above your video</p> \n",
       "          <source src=\"movies/stokes_I_04.mp4\" type=\"video/mp4\">\n",
       "    </video>\n",
       "    <video id=\"2004\" width=\"40%\" controls>\n",
       "          <source src=\"movies/stokes_I_05.mp4\" type=\"video/mp4\">\n",
       "    </video>\n",
       "</div>"
      ],
      "text/plain": [
       "<IPython.core.display.HTML object>"
      ]
     },
     "execution_count": 16,
     "metadata": {},
     "output_type": "execute_result"
    }
   ],
   "source": [
    "from IPython.display import HTML\n",
    "\n",
    "HTML(\"\"\"\n",
    "<div id=\"wrapper\"> \n",
    "    <video id=\"2004\" width=\"40%\" controls>\n",
    "          <source src=\"movies/stokes_I_04.mp4\" type=\"video/mp4\">\n",
    "    </video>\n",
    "    <video id=\"2004\" width=\"40%\" controls>\n",
    "          <source src=\"movies/stokes_I_05.mp4\" type=\"video/mp4\">\n",
    "    </video>\n",
    "</div>\"\"\")\n"
   ]
  },
  {
   "cell_type": "markdown",
   "metadata": {},
   "source": [
    "# LSD profiles in 2004\n",
    "\n",
    "## Stokes-_I_\n",
    "*  The 227 profiles selected are displayed below (4 were excluded).\n",
    "![](figs/I_2004_p1.png)  \n",
    "![](figs/I_2004_p2.png)\n",
    "![](figs/I_2004_p3.png)\n",
    "\n",
    "## Stokes-_V_\n",
    "*  The 55 profiles selected are displayed below (3 were excluded).\n",
    "![](figs/V_2004_p1.png)  \n",
    "![](figs/V_2004_p2.png)\n",
    "![](figs/V_2004_p3.png)"
   ]
  },
  {
   "cell_type": "markdown",
   "metadata": {},
   "source": [
    "# LSD profiles in 2005\n",
    "\n",
    "## Stokes-_I_\n",
    "*  The 400 profiles selected are displayed below.\n",
    "![](figs/I_2005_p1.png)  \n",
    "![](figs/I_2005_p2.png)\n",
    "![](figs/I_2005_p3.png)\n",
    "\n",
    "## Stokes-_V_\n",
    "*  The 98 profiles selected are displayed below.\n",
    "![](figs/V_2005_p1.png)  \n",
    "![](figs/V_2005_p2.png)\n",
    "![](figs/V_2005_p3.png)"
   ]
  },
  {
   "cell_type": "code",
   "execution_count": null,
   "metadata": {},
   "outputs": [],
   "source": []
  }
 ],
 "metadata": {
  "kernelspec": {
   "display_name": "Python 3",
   "language": "python",
   "name": "python3"
  },
  "language_info": {
   "codemirror_mode": {
    "name": "ipython",
    "version": 3
   },
   "file_extension": ".py",
   "mimetype": "text/x-python",
   "name": "python",
   "nbconvert_exporter": "python",
   "pygments_lexer": "ipython3",
   "version": "3.7.2"
  },
  "latex_envs": {
   "LaTeX_envs_menu_present": true,
   "autoclose": false,
   "autocomplete": true,
   "bibliofile": "biblio.bib",
   "cite_by": "apalike",
   "current_citInitial": 1,
   "eqLabelWithNumbers": true,
   "eqNumInitial": 1,
   "hotkeys": {
    "equation": "Ctrl-E",
    "itemize": "Ctrl-I"
   },
   "labels_anchors": false,
   "latex_user_defs": false,
   "report_style_numbering": false,
   "user_envs_cfg": false
  }
 },
 "nbformat": 4,
 "nbformat_minor": 2
}
