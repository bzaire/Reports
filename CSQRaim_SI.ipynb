{
 "cells": [
  {
   "cell_type": "markdown",
   "metadata": {},
   "source": [
    "# Choice of an adequate $\\chi^2_\\mathrm{aim}$ for stokes-_I_\n",
    "\n",
    "In order to choose the best $\\chi^2$ to aim for, we run ZDI aiming for a low value. We observe the progression of the spot coverage with the reduction of the $\\chi^2$. At some low $\\chi^2$, we will start to fit noise and, as result, the attempt to maximize the entropy will add spot everywhere at the star surface. \n",
    "\n",
    "##### _The good value to be aimed for will be the one before this exponential grow in spot intensity._ This may not lead to the same $\\chi^2_\\mathrm{aim}$  at both epochs, but instead they will share the same level of compromise in the $SP_\\mathrm{PH}$ _vs_  $\\chi^2$ trend.\n",
    "\n",
    "\n",
    "- We use the follow parameters to find $\\chi^2_\\mathrm{aim}$ the for stokes-_I_ (without considering any DR). \n",
    "\n",
    "|           Parameter   |2004   |  2005 | 2014  |\n",
    "|                ---    |---    |---    |---    |  \n",
    "|$K$ (km/s)             | 149.4 | 149.4 | 149.3 |   \n",
    "|$v_\\mathrm{rad}$ (km/s)| 34.7  | 35.0  |  35.0 |\n",
    "|$\\phi$                 |-0.0029|-0.0041|-0.0035|"
   ]
  },
  {
   "cell_type": "markdown",
   "metadata": {},
   "source": [
    "---\n",
    "\n",
    "## DATA IN 2004\n",
    " "
   ]
  },
  {
   "cell_type": "code",
   "execution_count": 7,
   "metadata": {},
   "outputs": [],
   "source": [
    "# Read file with informations in each run\n",
    "chisq, s, sp_ph, test, cool, hot = N.genfromtxt('data/chisq_aim_i_2004.txt', unpack=True)"
   ]
  },
  {
   "cell_type": "code",
   "execution_count": 8,
   "metadata": {},
   "outputs": [
    {
     "data": {
      "image/png": "[encoded data removed]",
      "text/plain": [
       "<Figure size 432x288 with 1 Axes>"
      ]
     },
     "metadata": {
      "needs_background": "light"
     },
     "output_type": "display_data"
    }
   ],
   "source": [
    "# load modules\n",
    "#%matplotlib notebook\n",
    "import numpy as N\n",
    "import matplotlib.pyplot as P\n",
    "P.rcParams['font.family'] = 'arial'\n",
    "P.scatter(chisq, sp_ph)\n",
    "caim = .3\n",
    "P.plot(N.ones(sp_ph.shape[0])*caim, sp_ph, '--k')\n",
    "P.text(caim+0.02, 0.2, r'$\\chi^2_{aim}$ = %1.2f' %caim, fontsize=22)\n",
    "P.xticks([0.3,.5,.7,.9])\n",
    "P.xlim([0.2,1.])\n",
    "P.ylim([0., sp_ph.max()])\n",
    "P.ylabel(r'$Sp_ph$')\n",
    "P.xlabel(r'$\\chi^2$')\n",
    "P.show()"
   ]
  },
  {
   "cell_type": "markdown",
   "metadata": {},
   "source": [
    "---\n",
    "\n",
    "## DATA IN 2005"
   ]
  },
  {
   "cell_type": "code",
   "execution_count": 5,
   "metadata": {},
   "outputs": [],
   "source": [
    "chisq, s, sp_ph, test, cool, hot = N.genfromtxt('data/chisq_aim_i_2005.txt', unpack=True)"
   ]
  },
  {
   "cell_type": "code",
   "execution_count": 6,
   "metadata": {},
   "outputs": [
    {
     "data": {
      "image/png": "[encoded data removed]",
      "text/plain": [
       "<Figure size 432x288 with 1 Axes>"
      ]
     },
     "metadata": {
      "needs_background": "light"
     },
     "output_type": "display_data"
    }
   ],
   "source": [
    "# load modules\n",
    "#%matplotlib notebook\n",
    "import numpy as N\n",
    "import matplotlib.pyplot as P\n",
    "P.rcParams['font.family'] = 'arial'\n",
    "P.scatter(chisq, sp_ph)\n",
    "caim = .36\n",
    "P.plot(N.ones(sp_ph.shape[0])*caim, sp_ph, '--k')\n",
    "P.text(caim+0.02, 0.2, r'$\\chi^2_{aim}$ = %1.2f' %caim, fontsize=22)\n",
    "P.xticks([0.3,.5,.7,.9])\n",
    "P.xlim([0.2,1.])\n",
    "P.ylim([0., sp_ph.max()])\n",
    "P.ylabel(r'$Sp_ph$')\n",
    "P.xlabel(r'$\\chi^2$')\n",
    "P.show()"
   ]
  },
  {
   "cell_type": "markdown",
   "metadata": {},
   "source": [
    "# DATA IN 2014"
   ]
  },
  {
   "cell_type": "code",
   "execution_count": 11,
   "metadata": {},
   "outputs": [],
   "source": [
    "# Read file with informations in each run\n",
    "chisq, s, sp_ph, test = N.genfromtxt('data/chisq_aim_i_2014.txt', unpack=True)"
   ]
  },
  {
   "cell_type": "code",
   "execution_count": 18,
   "metadata": {},
   "outputs": [
    {
     "data": {
      "image/png": "[encoded data removed]",
      "text/plain": [
       "<Figure size 432x288 with 1 Axes>"
      ]
     },
     "metadata": {
      "needs_background": "light"
     },
     "output_type": "display_data"
    }
   ],
   "source": [
    "# load modules\n",
    "#%matplotlib notebook\n",
    "import numpy as N\n",
    "import matplotlib.pyplot as P\n",
    "P.scatter(chisq, sp_ph)\n",
    "caim = .5\n",
    "P.plot(N.ones(sp_ph.shape[0])*caim, sp_ph, '--k')\n",
    "P.text(caim+0.02, 0.2, r'$\\chi^2_{aim}$ = %1.2f' %caim, fontsize=14)\n",
    "#P.xticks([0.3,.5,.7,.9])\n",
    "#P.xlim([0.2,1.])\n",
    "#P.ylim([0., sp_ph.max()])\n",
    "P.ylabel(r'$Sp_{ph}$')\n",
    "P.xlabel(r'$\\chi^2$')\n",
    "P.show()"
   ]
  },
  {
   "cell_type": "markdown",
   "metadata": {},
   "source": [
    "---\n",
    "# Results at both epochs: aiming for the $\\chi^2_\\mathrm{aim}$ indicated in the figures "
   ]
  },
  {
   "cell_type": "markdown",
   "metadata": {},
   "source": [
    "|DATA                  |2004   |  2005 |\n",
    "|---                   |---    |---    |\n",
    "|$\\chi^2_\\mathrm{aim}$ |0.30   |0.36   | \n",
    "|$SP_{ph}$             |0.14316|0.19374|\n",
    "|S                     |-57.92 |-102.9 |\n",
    "\n",
    "For the complete runs check files: \n",
    " - zdi_i_2004_caim30_DR0.txt\n",
    " - zdi_i_2005_caim36_DR0.txt"
   ]
  },
  {
   "cell_type": "markdown",
   "metadata": {},
   "source": [
    "## 2004          \n",
    "![](figs/brightness_2004_search_chisq.png) \n",
    "## 2005 \n",
    "![](figs/brightness_2005_search_chisq.png)"
   ]
  }
 ],
 "metadata": {
  "kernelspec": {
   "display_name": "Python 3",
   "language": "python",
   "name": "python3"
  },
  "language_info": {
   "codemirror_mode": {
    "name": "ipython",
    "version": 3
   },
   "file_extension": ".py",
   "mimetype": "text/x-python",
   "name": "python",
   "nbconvert_exporter": "python",
   "pygments_lexer": "ipython3",
   "version": "3.7.2"
  },
  "latex_envs": {
   "LaTeX_envs_menu_present": true,
   "autoclose": false,
   "autocomplete": true,
   "bibliofile": "biblio.bib",
   "cite_by": "apalike",
   "current_citInitial": 1,
   "eqLabelWithNumbers": true,
   "eqNumInitial": 1,
   "hotkeys": {
    "equation": "Ctrl-E",
    "itemize": "Ctrl-I"
   },
   "labels_anchors": false,
   "latex_user_defs": false,
   "report_style_numbering": false,
   "user_envs_cfg": false
  }
 },
 "nbformat": 4,
 "nbformat_minor": 2
}
