{
 "cells": [
  {
   "cell_type": "markdown",
   "metadata": {},
   "source": [
    "### Activity lines of the K2 V471 Tau\n",
    "\n",
    "> The emission at phase 0.5 is clearly varying in intensity over time. However, I cannot see a correlation between H$\\alpha$ and Ca II H$\\&$K variations."
   ]
  },
  {
   "cell_type": "markdown",
   "metadata": {},
   "source": [
    " 2004 | 2005 | 2014\n",
    "-|-|-\n",
    "![](figs/dynha2004.png)    | ![](figs/dynha2005.png)    | ![](figs/dynha2014.png)   \n",
    "![](figs/dynhb2004.png)    | ![](figs/dynhb2005.png)    | ![](figs/dynhb2014.png)\n",
    "![](figs/dynCaHK2004.png)  | ![](figs/dynCaHK2005.png)  | ![](figs/dynCaHK2014.png)\n",
    "![](figs/dyncaIRT2004.png) | ![](figs/dyncaIRT2005.png) | ![](figs/dyncaIRT2014.png)\n",
    "\n",
    "Fig.1: Dynamical spectra of active lines, in the rest frame of the K2 dwarf, for observations in late 2004 (left), Dec 2005 (center), and Dec 2014 (right). The vertical dashed lines correspond to the stellar rotational broadening of $\\pm v\\sin(i)$. A sine wave of amplitude $215$~km/s is over-plotted on the 2004 and 2014 dynamical spectra of H$\\alpha$. \n",
    "\n"
   ]
  },
  {
   "cell_type": "code",
   "execution_count": null,
   "metadata": {},
   "outputs": [],
   "source": []
  }
 ],
 "metadata": {
  "kernelspec": {
   "display_name": "Python 3",
   "language": "python",
   "name": "python3"
  },
  "language_info": {
   "codemirror_mode": {
    "name": "ipython",
    "version": 3
   },
   "file_extension": ".py",
   "mimetype": "text/x-python",
   "name": "python",
   "nbconvert_exporter": "python",
   "pygments_lexer": "ipython3",
   "version": "3.7.2"
  },
  "latex_envs": {
   "LaTeX_envs_menu_present": true,
   "autoclose": false,
   "autocomplete": true,
   "bibliofile": "biblio.bib",
   "cite_by": "apalike",
   "current_citInitial": 1,
   "eqLabelWithNumbers": true,
   "eqNumInitial": 1,
   "hotkeys": {
    "equation": "Ctrl-E",
    "itemize": "Ctrl-I"
   },
   "labels_anchors": false,
   "latex_user_defs": false,
   "report_style_numbering": false,
   "user_envs_cfg": false
  }
 },
 "nbformat": 4,
 "nbformat_minor": 2
}
