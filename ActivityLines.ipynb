{
 "cells": [
  {
   "cell_type": "markdown",
   "metadata": {},
   "source": [
    "### Activity lines of the K2 V471 Tau\n",
    "\n",
    "- The emission at phase 0.5 is clearly varying in intensity over time. However, I cannot see a correlation between H$\\alpha$ and Ca II H$\\&$K variations.\n",
    "\n",
    "- We can identify in H$\\beta$ two emission lines (Ni 1 ???, Aluminium monoxide ???? **check**) that are located at -240 km/s ($\\sim$ 485.7 nm) and 300 km/s ($\\sim$~486.7 nm)."
   ]
  },
  {
   "cell_type": "markdown",
   "metadata": {},
   "source": [
    " 2004 | 2005 | 2014\n",
    "-|-|-\n",
    "![](figs/dynha2004.png)    | ![](figs/dynha2005.png)    | ![](figs/dynha2014.png)   \n",
    "![](figs/dynhb2004.png)    | ![](figs/dynhb2005.png)    | ![](figs/dynhb2014.png)\n",
    "![](figs/dynCaHK2004.png)  | ![](figs/dynCaHK2005.png)  | ![](figs/dynCaHK2014.png)\n",
    "![](figs/dynCaIRT2004.png) | ![](figs/dyncaIRT2005.png) | ![](figs/dynCaIRT2014.png)\n",
    "\n",
    "Fig.1: Dynamical spectra of active lines, in the rest frame of the K2 dwarf, for observations in late 2004 (left), Dec 2005 (center), and Dec 2014 (right). The vertical dashed lines correspond to the stellar rotational broadening of $\\pm v\\sin(i)$. A sine wave of amplitude $215$~km/s is over-plotted on the 2004 and 2014 dynamical spectra of H$\\alpha$. \n",
    "\n",
    "\n",
    "\n",
    "### Is there really an H$\\alpha$ modulation in V471 Tau?\n",
    "\n",
    "- Bois et al. (1991): decrease 1975 to 1983; grow in 1984;\n",
    "- Rottler (2002): decrease 1985 and 1992 (almost zero emission)\n",
    "- Kaminski et al. (2007): ~average value in Dec 2005 (they mention -0.5 angstrom at phase 0.5)\n",
    "  - Kaminski et al. (2007) suggest a 9 yrs periodicity in the central emission (phase 0.5); \n",
    "      - **IF this periodicity exists, all ESPADONS observations so far are placed in the average emission.** Indeed we observe EQWs ~0.5 angstrom for the three years.\n",
    "      - New observations in Dec 2020/ Jan 2021 would be placed for the first time in the _supposed_ maximum of H$\\alpha$ cycle.\n",
    "\n",
    "![](figs/Halpha_all.png)\n",
    "Fig.2: Equivalent width of H$\\alpha$ folded in phase for observations in late 2004 (red), Dec 2005 (blue), and Dec 2014 (black)."
   ]
  },
  {
   "cell_type": "markdown",
   "metadata": {},
   "source": [
    "## Prominence"
   ]
  },
  {
   "cell_type": "code",
   "execution_count": 6,
   "metadata": {},
   "outputs": [
    {
     "name": "stdout",
     "output_type": "stream",
     "text": [
      "flux in erg/s/cm2 = 2.4219384971087687e-15\n",
      "N = 2.60 x 10^9\n",
      "density = 4.35 x 10^-15 g/cm3\n",
      "mass = 6.33 x 10^17 g\n",
      "gravity = 853 cm/s2\n",
      "B >=  0.9559285694892147\n",
      "Bsurf >=  12.431654992544507\n",
      "\n",
      "\n",
      "\n",
      "\n",
      "OPOSITE HEMISPHERE\n",
      "gravity = -5120 cm/s2\n",
      "B >=  2.340675483935348\n",
      "Bsurf >=  30.44000461387999\n",
      "\n",
      "\n",
      "\n",
      "\n",
      "OPOSITE HEMISPHERE --- L3\n",
      "gravity = -5410 cm/s2\n",
      "B >=  2.406103997801329\n",
      "Bsurf >=  41.321255879489115\n",
      "\n",
      "\n",
      "\n",
      "\n"
     ]
    }
   ],
   "source": [
    "# flux in 2004\n",
    "\n",
    "\n",
    "###############\n",
    "# star params #\n",
    "###############\n",
    "# SI:\n",
    "\n",
    "Rstar = 652533251. # meter\n",
    "d = 1.472022e18    # meter\n",
    "T = 5066           # Kelvins\n",
    "vsini = 89.3  #km/s\n",
    "\n",
    "# Prominence\n",
    "Ksini = 210    #km/s\n",
    "l = 0.5*Rstar  # size\n",
    "v = 4/3.*N.pi*l**3 # volume\n",
    "Dprom = Ksini/vsini # prom dist in Rstar\n",
    "EW_Ha = 0.33e-10   # Equivalent width  H alpha\n",
    "EW_Hb = 0.10e-10   # Equivalent width  H beta\n",
    "# cgs:\n",
    "#ktc =12.276e-25 # transmition coeficient for prominence temp 2500 K\n",
    "ktc =6.71e-25   # transmition coeficient for prominence temp 5000 K\n",
    "#ktc =3.5588e-25  # transmition coeficient for prominence temp 10000 K\n",
    "#\n",
    "Mstar = 0.9971*1.989e33 # g\n",
    "Mwd = 0.8778*1.989e33   # g\n",
    "Dwd = 3.586*Rstar*1e2    # cm; wd position\n",
    "DPromToWD = (Dwd - Dprom)*Rstar*1e2    # cm; prom to wd star dist\n",
    "DPromToK2 = Dprom*Rstar*1e2   # cm; prom to k2 star dist\n",
    "Dcm = 1.679*Rstar*1e2  # cm; position of CM\n",
    "DPromToCM = (Dprom-1.679)*Rstar*1e2  # cm; prom to cm\n",
    "period = 0.521183398*24.*3600. # s\n",
    "Omega = 2.*N.pi/period\n",
    "\n",
    "# L3 point\n",
    "Dl3 = 2.58*Rstar*1e2    # cm; l3 to k2\n",
    "\n",
    "\n",
    "\n",
    "#############\n",
    "# constants #\n",
    "#############\n",
    "# SI:\n",
    "l_Ha = 656.28e-9   # m\n",
    "c = 299792458.     # m/s\n",
    "h = 6.62607004e-34\n",
    "Kb = 1.38064852e-23 \n",
    "sigma = 5.670374419e-8\n",
    "G = 6.67259e-12\n",
    "# cgs:\n",
    "hmass = 1.6735575e-24 # in g\n",
    "\n",
    "\n",
    "#############\n",
    "Ic = sigma*T**4*Rstar**2/d**2 ##total star\n",
    "f_Ha = Ic*EW_Ha # flux in Halpha\n",
    "#B_Ha = 2*h*c**2/l_Ha**5/(N.exp(h*c/(l_Ha*Kb*T))-1)\n",
    "#Ic_Ha = EW_Ha*B_Ha\n",
    "#print(B_Ha)\n",
    "print('flux in erg/s/cm2 =', f_Ha*1.e7)\n",
    "#############\n",
    "#\n",
    "NH = N.sqrt(3*(f_Ha*1.e7)*(d*1.e2)**2/(ktc*(l*1.e2)**3)) # cgs\n",
    "print(r'N = %1.2f x 10^9' %(NH/1.e9)) # cgs\n",
    "#\n",
    "density = NH*hmass\n",
    "mass = 4./3.*N.pi*density*(l*1.e2)**3 ## cgs\n",
    "print('density = %1.2f x 10^-15 g/cm3' %(density/1.e-15))\n",
    "print('mass = %1.2f x 10^17 g' %(mass/1.e17))\n",
    "##############\n",
    "grav = +G*Mwd/DPromToWD**2 - G*Mstar/DPromToK2**2 + Omega**2*DPromToCM\n",
    "print('gravity = %d cm/s2' %grav)\n",
    "# Curvature radius (for now using the radius of the blob)\n",
    "Rc = 0.3*Rstar*1e2 # cm  \n",
    "B = N.sqrt(4*N.pi*Rc*density*grav)\n",
    "print('B >= ', B)\n",
    "Bsurf = B*DPromToK2**3/(Rstar*1e2)**3\n",
    "print('Bsurf >= ', Bsurf)\n",
    "print('\\n\\n\\n')\n",
    "\n",
    "\n",
    "print('OPOSITE HEMISPHERE')\n",
    "grav_hem =  - G*Mwd/(DPromToK2+Dwd)**2 - G*Mstar/DPromToK2**2 + Omega**2*(DPromToK2 + Dcm)\n",
    "print('gravity = %d cm/s2' %(-grav_hem))\n",
    "B = N.sqrt(4*N.pi*Rc*density*grav_hem)\n",
    "print('B >= ', B)\n",
    "Bsurf = B*DPromToK2**3/(Rstar*1e2)**3\n",
    "print('Bsurf >= ', Bsurf)\n",
    "print('\\n\\n\\n')\n",
    "\n",
    "\n",
    "\n",
    "\n",
    "\n",
    "\n",
    "print('OPOSITE HEMISPHERE --- L3')\n",
    "grav_l3 =  - G*Mwd/(Dl3+Dwd)**2 - G*Mstar/Dl3**2 + Omega**2*(Dl3 + Dcm)\n",
    "print('gravity = %d cm/s2' %(-grav_l3))\n",
    "B = N.sqrt(4*N.pi*Rc*density*grav_l3)\n",
    "print('B >= ', B)\n",
    "\n",
    "Bsurf = B*Dl3**3/(Rstar*1e2)**3\n",
    "print('Bsurf >= ', Bsurf)\n",
    "print('\\n\\n\\n')\n"
   ]
  },
  {
   "cell_type": "code",
   "execution_count": null,
   "metadata": {},
   "outputs": [],
   "source": [
    "N.sqrt(4*N.pi*Rc*4.4e-15*867)"
   ]
  },
  {
   "cell_type": "markdown",
   "metadata": {},
   "source": [
    "### Rmax\n",
    "> We can sustain structures up to the WD"
   ]
  },
  {
   "cell_type": "code",
   "execution_count": null,
   "metadata": {},
   "outputs": [],
   "source": [
    "r = N.linspace(1.68,5,60)*Rstar*1.e2 # cm\n",
    "grav1 = G*Mwd/(3.58*Rstar*1.e2 - r)**2 + G*Mstar/(1.679*Rstar*1.e2 + r)**2 + Omega**2*(r-1.679*Rstar*1e2)\n",
    "B = N.sqrt(4*N.pi*Rc*density*grav)\n",
    "Breal = 90*(Rstar*1.e2/r)**3\n",
    "ib = N.argmin(N.abs(1 - B/Breal))"
   ]
  },
  {
   "cell_type": "code",
   "execution_count": null,
   "metadata": {},
   "outputs": [],
   "source": [
    "P.plot(r/(Rstar*1.e2), B/Breal)\n",
    "P.plot(r[ib]/(Rstar*1.e2)*N.ones_like(r), B/Breal, 'k--', dashes=[5,7] )\n",
    "P.title('r = %1.2f Rstar' %(r[ib]/(Rstar*1.e2)), fontsize='large')"
   ]
  },
  {
   "cell_type": "markdown",
   "metadata": {},
   "source": [
    "## Prominence distance"
   ]
  },
  {
   "cell_type": "code",
   "execution_count": null,
   "metadata": {},
   "outputs": [],
   "source": [
    "Ksini = 210   #km/s\n",
    "dK =    38    #km/s\n",
    "vsini = 89.3  #km/s\n",
    "dv =    0.11  #km/s\n",
    "Dprom = Ksini/vsini\n",
    "\n",
    "dDprom = N.sqrt((dK/vsini)**2 + (Ksini*dv/vsini**2)**2)\n",
    "print(r'distance of prominence = %1.2f +- %1.2f (Rstar)' %(Dprom, dDprom))\n",
    "\n",
    "\n",
    "#centre of mass \n",
    "CM = 1.679 # in Rstar\n",
    "dCM = 0.004 # in Rstar\n",
    "Vcm = vsini*CM\n",
    "dVcm = N.sqrt( (CM * dv)**2 + (dCM * vsini)**2 )\n",
    "print(r'Vel CM = %1.2f +- %1.2f (km/s) ' %(Vcm, dVcm))\n",
    "\n",
    "#L1\n",
    "L1 = 1.84 # in Rstar\n",
    "dL1 = 0.02 # in Rstar\n",
    "Vl1 = vsini*L1\n",
    "dVl1 = N.sqrt( (L1 * dv)**2 + (dL1 * vsini)**2 )\n",
    "print(r'Vel L1 = %1.0f +- %1.0f (km/s) ' %(Vl1, dVl1))\n",
    "\n",
    "#WD\n",
    "WD = 3.586 # in Rstar\n",
    "dwd = 0.0013 # in Rstar\n",
    "Vwd = vsini*WD\n",
    "dVwd = N.sqrt( (WD * dv)**2 + (dwd * vsini)**2 )\n",
    "print(r'Vel WD = %1.1f +- %1.1f (km/s) ' %(Vwd, dVwd))\n",
    "\n",
    "\n",
    "print(WD - Dprom)"
   ]
  },
  {
   "cell_type": "markdown",
   "metadata": {},
   "source": [
    "# Magnetic Stripping"
   ]
  },
  {
   "cell_type": "code",
   "execution_count": null,
   "metadata": {},
   "outputs": [],
   "source": [
    "(CM + Dprom)/(Dprom - CM)"
   ]
  },
  {
   "cell_type": "markdown",
   "metadata": {},
   "source": [
    "# Applegate"
   ]
  },
  {
   "cell_type": "code",
   "execution_count": null,
   "metadata": {},
   "outputs": [],
   "source": [
    "###############\n",
    "# star params #\n",
    "###############\n",
    "# SI:\n",
    "\n",
    "Rstar = 652533251. # meter\n",
    "Mstar = 0.9971*1.989e33 # g\n",
    "Mwd = 0.8778*1.989e33   # g\n",
    "Dwd = 1.22*Rstar*1e2    # cm\n",
    "Dstar = 2.36*Rstar*1e2  # cm\n",
    "Dcm = (2.36-1.679)*Rstar*1e2  # cm\n",
    "period = 0.521183398*24.*3600. # s\n",
    "Omega = 2.*N.pi/period"
   ]
  },
  {
   "cell_type": "code",
   "execution_count": null,
   "metadata": {},
   "outputs": [],
   "source": [
    "164/89.3"
   ]
  },
  {
   "cell_type": "code",
   "execution_count": null,
   "metadata": {},
   "outputs": [],
   "source": [
    "0.9971*1.989e30"
   ]
  },
  {
   "cell_type": "code",
   "execution_count": null,
   "metadata": {},
   "outputs": [],
   "source": [
    "-1682442142.2800024/652533251"
   ]
  },
  {
   "cell_type": "code",
   "execution_count": null,
   "metadata": {},
   "outputs": [],
   "source": []
  }
 ],
 "metadata": {
  "kernelspec": {
   "display_name": "Python 3",
   "language": "python",
   "name": "python3"
  },
  "language_info": {
   "codemirror_mode": {
    "name": "ipython",
    "version": 3
   },
   "file_extension": ".py",
   "mimetype": "text/x-python",
   "name": "python",
   "nbconvert_exporter": "python",
   "pygments_lexer": "ipython3",
   "version": "3.7.2"
  },
  "latex_envs": {
   "LaTeX_envs_menu_present": true,
   "autoclose": false,
   "autocomplete": true,
   "bibliofile": "biblio.bib",
   "cite_by": "apalike",
   "current_citInitial": 1,
   "eqLabelWithNumbers": true,
   "eqNumInitial": 1,
   "hotkeys": {
    "equation": "Ctrl-E",
    "itemize": "Ctrl-I"
   },
   "labels_anchors": false,
   "latex_user_defs": false,
   "report_style_numbering": false,
   "user_envs_cfg": false
  }
 },
 "nbformat": 4,
 "nbformat_minor": 2
}
