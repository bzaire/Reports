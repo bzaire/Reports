{
 "cells": [
  {
   "cell_type": "markdown",
   "metadata": {},
   "source": [
    "### Activity lines of the K2 V471 Tau\n",
    "\n",
    "- We can identify in H$\\beta$ two emission lines that are located at -240 km/s ($\\sim$ 485.7 nm) and 300 km/s ($\\sim$~486.7 nm)."
   ]
  },
  {
   "cell_type": "markdown",
   "metadata": {},
   "source": [
    " 2004 | 2005 | 2014\n",
    "-|-|-\n",
    "![](figs/dynha2004.png)    | ![](figs/dynha2005.png)    | ![](figs/dynha2014.png)   \n",
    "![](figs/dynhb2004.png)    | ![](figs/dynhb2005.png)    | ![](figs/dynhb2014.png)\n",
    "![](figs/dynCaHK2004.png)  | ![](figs/dynCaHK2005.png)  | ![](figs/dynCaHK2014.png)\n",
    "![](figs/dynCaIRT2004.png) | ![](figs/dyncaIRT2005.png) | ![](figs/dynCaIRT2014.png)\n",
    "\n",
    "Fig.1: Dynamical spectra of active lines, in the rest frame of the K2 dwarf, for observations in late 2004 (left), Dec 2005 (center), and Dec 2014 (right). The vertical dashed lines correspond to the stellar rotational broadening of $\\pm v\\sin(i)$. A sine wave of amplitude $215$~km/s is over-plotted on the 2004 and 2014 dynamical spectra of H$\\alpha$. \n",
    "\n",
    "\n",
    "\n",
    "### Is there really an H$\\alpha$ modulation in V471 Tau?\n",
    "\n",
    "- Bois et al. (1991): decrease 1975 to 1983; grow in 1984;\n",
    "- Rottler (2002): decrease 1985 and 1992 (almost zero emission)\n",
    "- Kaminski et al. (2007): ~average value in Dec 2005 (they mention -0.5 angstrom at phase 0.5)\n",
    "  - Kaminski et al. (2007) suggest a 9 yrs periodicity in the central emission (phase 0.5); \n",
    "      - **IF this periodicity exists, all ESPADONS observations so far are placed in the average emission.** Indeed we observe EQWs ~0.5 angstrom for the three years.\n",
    "      - New observations in Dec 2020/ Jan 2021 would be placed for the first time in the _supposed_ maximum of H$\\alpha$ cycle.\n",
    "\n",
    "![](figs/Halpha_all.png)\n",
    "Fig.2: Equivalent width of H$\\alpha$ folded in phase for observations in late 2004 (red), Dec 2005 (blue), and Dec 2014 (black)."
   ]
  },
  {
   "cell_type": "code",
   "execution_count": 1,
   "metadata": {},
   "outputs": [
    {
     "data": {
      "text/plain": [
       "1.4718789000000001e+20"
      ]
     },
     "execution_count": 1,
     "metadata": {},
     "output_type": "execute_result"
    }
   ],
   "source": [
    "47.70*3.0857e18"
   ]
  },
  {
   "cell_type": "markdown",
   "metadata": {},
   "source": [
    "### Parameters and constants"
   ]
  },
  {
   "cell_type": "code",
   "execution_count": 2,
   "metadata": {},
   "outputs": [],
   "source": [
    "# Parameters\n",
    "\n",
    "\n",
    "##################\n",
    "# K2 star params #\n",
    "##################\n",
    "# cgs\n",
    "Mk2 = 0.9971*1.989e33   # in g; K2 mass\n",
    "Rk2 = 65174609500. # in cm; radius of the K2 star\n",
    "Tk2 = 5066         # in K; temperature K2 star\n",
    "vsini = 89.3*1.e5  # in cm/s\n",
    "\n",
    "#################\n",
    "# System params #\n",
    "#################\n",
    "d = 1.47188e20    # in cm; distance system/earth\n",
    "Dwd = 3.586*Rk2    # in cm; Position of WD relative to the centre of the K2 star\n",
    "Dcm = 1.679*Rk2    # in cm; Position of CM relative to the centre of the K2 star\n",
    "period = 0.521183398*24.*3600. # in s\n",
    "Omega = 2.*N.pi/period         # in rad/s\n",
    "Dcm = 1.679*Rk2       # in cm; Position of CM relative to the centre of the K2 star\n",
    "\n",
    "\n",
    "##################\n",
    "# WD star params #\n",
    "##################\n",
    "# cgs\n",
    "Mwd = 0.8778*1.989e33   # in g; WD mass\n",
    "Rwd = 0.011*Rk2      # in cm; radius of the WD star\n",
    "\n",
    "\n",
    "#####################\n",
    "# Prominence params #\n",
    "#####################\n",
    "Ksini = 210*1.e5        # in cm/s\n",
    "l = 0.5*Rk2             # in cm; prominence radius\n",
    "v = 4/3.*N.pi*l**3      # in cm3; volume\n",
    "Dprom = Ksini/vsini*Rk2 # in cm; distance of the Prominence to K2 star\n",
    "DPromToWD = Dwd - Dprom # in cm; distance of the Prominence to WD star \n",
    "DPromToCM = Dprom - Dcm # in cm; distance of the Prominence to CM\n",
    "EW_Ha = 0.33e-8    # in cm; Equivalent width  H alpha flux in 2004\n",
    "EW_Hb = 0.10e-8    # in cm; Equivalent width  H beta flux in 2004\n",
    "\n",
    "#############\n",
    "# constants #\n",
    "#############\n",
    "l_Ha = 656.28e-7      # in cm; Halpha wavelength \n",
    "c = 29979245800.      # in cm/s; speed of light  \n",
    "h = 6.6261e-27        # in cm2g/s; Planck constant\n",
    "Kb = 1.3807e-16       # in cm2g/s2/K; Boltzmann constant\n",
    "sigma = 5.6704e-5     # in g/s3/K4; Stefan-Boltzman constant\n",
    "G = 6.6743e-8         # in cm3/g/s2; gravitational constant\n",
    "hmass = 1.6735575e-24 # in g; hydrogen mass \n",
    "\n",
    "##########################\n"
   ]
  },
  {
   "cell_type": "markdown",
   "metadata": {},
   "source": [
    "# System's gravity"
   ]
  },
  {
   "cell_type": "code",
   "execution_count": 111,
   "metadata": {
    "scrolled": true
   },
   "outputs": [
    {
     "data": {
      "image/png": "[encoded data removed]",
      "text/plain": [
       "<Figure size 576x396 with 1 Axes>"
      ]
     },
     "metadata": {},
     "output_type": "display_data"
    }
   ],
   "source": [
    "def grav(x):\n",
    "    # Define local gravity\n",
    "    return - G*Mk2/x**2*x/N.abs(x) + G*Mwd/(Dwd - x)**2*(Dwd - x)/N.abs(Dwd - x) + Omega**2*(x - Dcm)\n",
    "\n",
    "    \n",
    "    \n",
    "    \n",
    "##### \n",
    "xtmp = N.linspace(-8*Rk2,8*Rk2, 500)\n",
    "cond = N.bitwise_and(N.abs(xtmp) > Rk2, N.abs(xtmp - Dwd) > Rwd)\n",
    "x = xtmp[cond]\n",
    "### Gravity\n",
    "y = grav(x)\n",
    "\n",
    "### Plot\n",
    "P.style.use(['seaborn-white', 'seaborn-paper', 'seaborn-ticks'])\n",
    "\n",
    "fig = P.figure(dpi=90)\n",
    "\n",
    "# K2\n",
    "P.scatter(x/Rk2, (y))\n",
    "P.plot(N.ones(10), N.linspace(-1e5,1.e5, 10), 'k')\n",
    "P.plot(-N.ones(10), N.linspace(-1.e5,1.e5, 10), 'k')\n",
    "P.fill_between(xtmp[N.abs(xtmp) <= Rk2]/Rk2, -1.e5,1.e5, color='k', alpha=1./3)\n",
    "\n",
    "# WD\n",
    "P.plot((Dwd+Rwd)*N.ones(10)/Rk2, N.linspace(-1.e5,1.e5, 10), 'k')\n",
    "P.plot((Dwd-Rwd)*N.ones(10)/Rk2, N.linspace(-1.e5,1.e5, 10), 'k')\n",
    "\n",
    "# Prominence\n",
    "P.fill_between(xtmp[N.abs(xtmp - Dprom) <= l]/Rk2, -1.e5,1.e5, color='y', alpha=1./3)\n",
    "\n",
    "\n",
    "\n",
    "# L1 point\n",
    "Dl1 = 1.84*Rk2     # in cm; distance fo the L1 point to the centre of the K2 star\n",
    "P.scatter(Dl1/Rk2, 0, marker='s', s=100, color='m', label=r'$L_1 = 1.84$ R$_\\star$')\n",
    "\n",
    "\n",
    "# L2 point\n",
    "Dl2 = 6.02*Rk2    # in cm; distance fo the L2 point to the centre of the K2 star\n",
    "P.scatter(Dl2/Rk2, 0, marker='s', s=100, color='b', label=r'$L_2 = 6.02$ R$_\\star$')\n",
    "\n",
    "\n",
    "# L3 point\n",
    "Dl3 = -2.58*Rk2    # in cm; distance fo the L3 point to the centre of the K2 star\n",
    "P.scatter(Dl3/Rk2, 0, marker='s', s=100, color='g', label=r'$L_3 = -2.58$ R$_\\star$')\n",
    "\n",
    "\n",
    "P.text(0, 3.e3, 'K2 star', ha='center')\n",
    "P.text(Dwd/Rk2, 3.e3, 'WD star', ha='center')\n",
    "P.text(Dprom/Rk2, -5000, 'Prom', ha='center')\n",
    "\n",
    "\n",
    "P.xlabel(r'x (R$_\\star$)',fontsize='large')\n",
    "P.ylabel(r'Gravity (cm$^2$/s)',fontsize='large')\n",
    "\n",
    "P.legend(title='Lagrange Points', loc='upper left', fontsize='large')\n",
    "\n",
    "#P.ylim((1.e2,1.e5)); P.yscale('log')\n",
    "P.ylim((-15000,15000))\n",
    "P.xlim((-8,8))\n",
    "P.grid()\n",
    "P.show()"
   ]
  },
  {
   "cell_type": "markdown",
   "metadata": {},
   "source": [
    "# Compute field strength"
   ]
  },
  {
   "cell_type": "code",
   "execution_count": 116,
   "metadata": {},
   "outputs": [
    {
     "name": "stdout",
     "output_type": "stream",
     "text": [
      "PROMINENCE -- Basic parameters\n",
      "flux = 2.1 x 10^-13 erg/s/cm2\n",
      "N = 2.4 x 10^10\n",
      "density = 4.09 x 10^-14 g/cm3\n",
      "mass = 5.92 x 10^18 g\n",
      "\n",
      "\n",
      "\n",
      "\n",
      "PROMINENCE\n",
      "gravity = 13223 cm/s2\n",
      "B >=  6.65287435054488\n",
      "Bsurf >=  86.51926647502054\n",
      "\n",
      "\n",
      "\n",
      "\n",
      "OPOSITE HEMISPHERE\n",
      "gravity = 1298 cm/s2\n",
      "B >=  2.084831722081241\n",
      "Bsurf >=  27.11280896257264\n",
      "\n",
      "\n",
      "\n",
      "\n",
      "OPOSITE HEMISPHERE --- L3\n",
      "gravity = 0 cm/s2\n"
     ]
    }
   ],
   "source": [
    "## Transmition coeficients\n",
    "# ktc =12.276e-25  # transmition coeficient for prominence temp 2500 K\n",
    "ktc =6.71e-25      # transmition coeficient for prominence temp 5000 K\n",
    "# ktc =3.5588e-25  # transmition coeficient for prominence temp 10000 K\n",
    "\n",
    "#############\n",
    "print('PROMINENCE -- Basic parameters')\n",
    "\n",
    "######## first we compute the flux in Halpha:\n",
    "## Using the R band (Bessel et al. 1979)\n",
    "F0 = 3.08e-20 # in erg/cm2/hz; Spectral flux density per frequency at magnitude zero R band\n",
    "F0_lamb = F0*(c/l_Ha**2) # in erg/cm2/cm; Spectral flux density per wavelength\n",
    "Rmag = 8.803  # taken from Vaccaro et al. 2015\n",
    "f_Ha = F0_lamb*EW_Ha/10**(0.4*Rmag)\n",
    "print('flux = %1.1f x 10^-13 erg/s/cm2' %(f_Ha/1.e-13))\n",
    "#############\n",
    "#\n",
    "NH = N.sqrt(3*f_Ha*d**2/(ktc*l**3)) \n",
    "print(r'N = %1.1f x 10^10' %(NH/1.e10)) \n",
    "#\n",
    "density = NH*hmass  \n",
    "mass = 4./3.*N.pi*density*l**3 \n",
    "print('density = %1.2f x 10^-14 g/cm3' %(density/1.e-14))\n",
    "print('mass = %1.2f x 10^18 g' %(mass/1.e18))\n",
    "print('\\n\\n\\n')\n",
    "\n",
    "\n",
    "\n",
    "############## Local gravity #####################\n",
    "## 1. at the prominence position:\n",
    "print('PROMINENCE')\n",
    "g_prom = grav(Dprom)  # gravity at prominence distance\n",
    "print('gravity = %d cm/s2' %g_prom)\n",
    "#\n",
    "Rc = 0.1*Rk2 # in cm;  Curvature radius \n",
    "#\n",
    "# Minimum field strength to hold the prominence\n",
    "B = N.sqrt(4*N.pi*Rc*density*g_prom)\n",
    "print('B >= ', B)\n",
    "#\n",
    "# Dipole intensity at the surface to genarate the field above at the promience distance.\n",
    "Bsurf = B*Dprom**3/Rk2**3\n",
    "print('Bsurf >= ', Bsurf)\n",
    "print('\\n\\n\\n')\n",
    "\n",
    "\n",
    "\n",
    "## 2. for a virtual prominence at the opposite hemisphere:\n",
    "print('OPOSITE HEMISPHERE')\n",
    "g_hem = grav(-Dprom)\n",
    "print('gravity = %d cm/s2' %(g_hem))\n",
    "#\n",
    "# Minimum field strength to hold the virtual prominence\n",
    "B = N.sqrt(4*N.pi*Rc*density*g_hem)\n",
    "print('B >= ', B)\n",
    "#\n",
    "# Dipole intensity at the surface to genarate the field above\n",
    "Bsurf = B*Dprom**3/Rk2**3\n",
    "print('Bsurf >= ', Bsurf)\n",
    "print('\\n\\n\\n')\n",
    "\n",
    "\n",
    "\n",
    "## 3. Gravity at the L3 point:\n",
    "print('OPOSITE HEMISPHERE --- L3')\n",
    "g_l3 =  grav(-2.5799*Rk2)  #### notice we are actually using 2 digits precision in the paper: Dl3 ~ -2.58 Rk2\n",
    "print('gravity = %d cm/s2' %(g_l3))"
   ]
  },
  {
   "cell_type": "markdown",
   "metadata": {},
   "source": [
    "------\n",
    "## Playing around with the curvature radius\n",
    "\n",
    "    1. Rc = 0.1 Rk2"
   ]
  },
  {
   "cell_type": "code",
   "execution_count": 117,
   "metadata": {},
   "outputs": [
    {
     "name": "stdout",
     "output_type": "stream",
     "text": [
      "PROMINENCE\n",
      "B >= 6 G\n",
      "Bsurf >= 86 G\n"
     ]
    }
   ],
   "source": [
    "############## Local gravity #####################\n",
    "## 1. at the prominence position:\n",
    "print('PROMINENCE')\n",
    "g_prom = grav(Dprom)  # gravity at prominence distance\n",
    "\n",
    "########\n",
    "Rc = 0.1*Rk2 # in cm;  Curvature radius \n",
    "########\n",
    "\n",
    "\n",
    "# Minimum field strength to hold the prominence\n",
    "B = N.sqrt(4*N.pi*Rc*density*g_prom)\n",
    "print('B >= %d G' %B)\n",
    "#\n",
    "# Dipole intensity at the surface to genarate the field above at the promience distance.\n",
    "Bsurf = B*Dprom**3/Rk2**3\n",
    "print('Bsurf >= %d G' %Bsurf)"
   ]
  },
  {
   "cell_type": "markdown",
   "metadata": {},
   "source": [
    "------\n",
    "    2. Rc = 0.2 Rk2"
   ]
  },
  {
   "cell_type": "code",
   "execution_count": 118,
   "metadata": {},
   "outputs": [
    {
     "name": "stdout",
     "output_type": "stream",
     "text": [
      "PROMINENCE\n",
      "B >= 9 G\n",
      "Bsurf >= 122 G\n"
     ]
    }
   ],
   "source": [
    "############## Local gravity #####################\n",
    "## 1. at the prominence position:\n",
    "print('PROMINENCE')\n",
    "g_prom = grav(Dprom)  # gravity at prominence distance\n",
    "\n",
    "#########\n",
    "Rc = 0.2*Rk2 # in cm;  Curvature radius \n",
    "#########\n",
    "\n",
    "# Minimum field strength to hold the prominence\n",
    "B = N.sqrt(4*N.pi*Rc*density*g_prom)\n",
    "print('B >= %d G' %B)\n",
    "#\n",
    "# Dipole intensity at the surface to genarate the field above at the promience distance.\n",
    "Bsurf = B*Dprom**3/Rk2**3\n",
    "print('Bsurf >= %d G' %Bsurf)"
   ]
  },
  {
   "cell_type": "markdown",
   "metadata": {},
   "source": [
    "-------\n",
    "\n",
    "\n",
    "    3. Rc = 0.3 Rk2 (used in Donati et al. 2000)"
   ]
  },
  {
   "cell_type": "code",
   "execution_count": 119,
   "metadata": {},
   "outputs": [
    {
     "name": "stdout",
     "output_type": "stream",
     "text": [
      "PROMINENCE\n",
      "B >= 11 G\n",
      "Bsurf >= 149 G\n"
     ]
    }
   ],
   "source": [
    "############## Local gravity #####################\n",
    "## 1. at the prominence position:\n",
    "print('PROMINENCE')\n",
    "g_prom = grav(Dprom)  # gravity at prominence distance\n",
    "\n",
    "########\n",
    "Rc = 0.3*Rk2 # in cm;  Curvature radius \n",
    "#######\n",
    "\n",
    "\n",
    "# Minimum field strength to hold the prominence\n",
    "B = N.sqrt(4*N.pi*Rc*density*g_prom)\n",
    "print('B >= %d G' %B)\n",
    "#\n",
    "# Dipole intensity at the surface to genarate the field above at the promience distance.\n",
    "Bsurf = B*Dprom**3/Rk2**3\n",
    "print('Bsurf >= %d G' %Bsurf)"
   ]
  },
  {
   "cell_type": "code",
   "execution_count": null,
   "metadata": {},
   "outputs": [],
   "source": []
  }
 ],
 "metadata": {
  "kernelspec": {
   "display_name": "Python 3",
   "language": "python",
   "name": "python3"
  },
  "language_info": {
   "codemirror_mode": {
    "name": "ipython",
    "version": 3
   },
   "file_extension": ".py",
   "mimetype": "text/x-python",
   "name": "python",
   "nbconvert_exporter": "python",
   "pygments_lexer": "ipython3",
   "version": "3.7.2"
  },
  "latex_envs": {
   "LaTeX_envs_menu_present": true,
   "autoclose": false,
   "autocomplete": true,
   "bibliofile": "biblio.bib",
   "cite_by": "apalike",
   "current_citInitial": 1,
   "eqLabelWithNumbers": true,
   "eqNumInitial": 1,
   "hotkeys": {
    "equation": "Ctrl-E",
    "itemize": "Ctrl-I"
   },
   "labels_anchors": false,
   "latex_user_defs": false,
   "report_style_numbering": false,
   "user_envs_cfg": false
  }
 },
 "nbformat": 4,
 "nbformat_minor": 2
}
