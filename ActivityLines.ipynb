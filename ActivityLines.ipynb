{
 "cells": [
  {
   "cell_type": "markdown",
   "metadata": {},
   "source": [
    "### Activity lines of the K2 V471 Tau\n",
    "\n",
    "- The emission at phase 0.5 is clearly varying in intensity over time. However, I cannot see a correlation between H$\\alpha$ and Ca II H$\\&$K variations.\n",
    "\n",
    "- We can identify in H$\\beta$ two emission lines (Ni 1 ???, Aluminium monoxide ???? **check**) that are located at -240 km/s ($\\sim$ 485.7 nm) and 300 km/s ($\\sim$~486.7 nm)."
   ]
  },
  {
   "cell_type": "markdown",
   "metadata": {},
   "source": [
    " 2004 | 2005 | 2014\n",
    "-|-|-\n",
    "![](figs/dynha2004.png)    | ![](figs/dynha2005.png)    | ![](figs/dynha2014.png)   \n",
    "![](figs/dynhb2004.png)    | ![](figs/dynhb2005.png)    | ![](figs/dynhb2014.png)\n",
    "![](figs/dynCaHK2004.png)  | ![](figs/dynCaHK2005.png)  | ![](figs/dynCaHK2014.png)\n",
    "![](figs/dynCaIRT2004.png) | ![](figs/dyncaIRT2005.png) | ![](figs/dynCaIRT2014.png)\n",
    "\n",
    "Fig.1: Dynamical spectra of active lines, in the rest frame of the K2 dwarf, for observations in late 2004 (left), Dec 2005 (center), and Dec 2014 (right). The vertical dashed lines correspond to the stellar rotational broadening of $\\pm v\\sin(i)$. A sine wave of amplitude $215$~km/s is over-plotted on the 2004 and 2014 dynamical spectra of H$\\alpha$. \n",
    "\n",
    "\n",
    "\n",
    "### Is there really an H$\\alpha$ modulation in V471 Tau?\n",
    "\n",
    "- Bois et al. (1991): decrease 1975 to 1983; grow in 1984;\n",
    "- Rottler (2002): decrease 1985 and 1992 (almost zero emission)\n",
    "- Kaminski et al. (2007): ~average value in Dec 2005 (they mention -0.5 angstrom at phase 0.5)\n",
    "  - Kaminski et al. (2007) suggest a 9 yrs periodicity in the central emission (phase 0.5); \n",
    "      - **IF this periodicity exists, all ESPADONS observations so far are placed in the average emission.** Indeed we observe EQWs ~0.5 angstrom for the three years.\n",
    "      - New observations in Dec 2020/ Jan 2021 would be placed for the first time in the _supposed_ maximum of H$\\alpha$ cycle.\n",
    "\n",
    "![](figs/Halpha_all.png)\n",
    "Fig.2: Equivalent width of H$\\alpha$ folded in phase for observations in late 2004 (red), Dec 2005 (blue), and Dec 2014 (black)."
   ]
  },
  {
   "cell_type": "markdown",
   "metadata": {},
   "source": [
    "## Prominence"
   ]
  },
  {
   "cell_type": "code",
   "execution_count": 200,
   "metadata": {},
   "outputs": [
    {
     "name": "stdout",
     "output_type": "stream",
     "text": [
      "flux in erg/s/cm2 = 2.2017622700988803e-15\n",
      "N = 2.63 x 10^9\n",
      "density = 4.41 x 10^-15 g/cm3\n",
      "mass = 5.68 x 10^17 g\n",
      "gravity = 867 cm/s2\n",
      "B >=  0.9700737595877854\n",
      "Bsurf >=  12.750897834904306\n"
     ]
    }
   ],
   "source": [
    "# flux in 2004\n",
    "\n",
    "\n",
    "###############\n",
    "# star params #\n",
    "###############\n",
    "# SI:\n",
    "\n",
    "Rstar = 652533251. # meter\n",
    "d = 1.472022e18    # meter\n",
    "T = 5066           # Kelvins\n",
    "# Prominence\n",
    "l = 0.48*Rstar     # size\n",
    "v = 4/3.*N.pi*l**3 # volume\n",
    "EW_Ha = 0.30e-10   # Equivalent width  H alpha\n",
    "EW_Hb = 0.09e-10   # Equivalent width  H beta\n",
    "# cgs:\n",
    "#ktc =12.276e-25 # transmition coeficient for prominence temp 2500 K\n",
    "ktc =6.71e-25   # transmition coeficient for prominence temp 5000 K\n",
    "#ktc =3.5588e-25  # transmition coeficient for prominence temp 10000 K\n",
    "#\n",
    "Mstar = 0.9971*1.989e33 # g\n",
    "Mwd = 0.8778*1.989e33   # g\n",
    "Dwd = 1.22*Rstar*1e2    # cm\n",
    "Dstar = 2.36*Rstar*1e2  # cm\n",
    "Dcm = (2.36-1.679)*Rstar*1e2  # cm\n",
    "period = 0.521183398*24.*3600. # s\n",
    "Omega = 2.*N.pi/period\n",
    "\n",
    "\n",
    "#############\n",
    "# constants #\n",
    "#############\n",
    "# SI:\n",
    "l_Ha = 656.28e-9   # m\n",
    "c = 299792458.     # m/s\n",
    "h = 6.62607004e-34\n",
    "Kb = 1.38064852e-23 \n",
    "sigma = 5.670374419e-8\n",
    "G = 6.67259e-12\n",
    "# cgs:\n",
    "hmass = 1.6735575e-24 # in g\n",
    "\n",
    "\n",
    "#############\n",
    "Ic = sigma*T**4*Rstar**2/d**2 ##total star\n",
    "f_Ha = Ic*EW_Ha # flux in Halpha\n",
    "#B_Ha = 2*h*c**2/l_Ha**5/(N.exp(h*c/(l_Ha*Kb*T))-1)\n",
    "#Ic_Ha = EW_Ha*B_Ha\n",
    "#print(B_Ha)\n",
    "print('flux in erg/s/cm2 =', f_Ha*1.e7)\n",
    "#############\n",
    "#\n",
    "NH = N.sqrt(3*(f_Ha*1.e7)*(d*1.e2)**2/(ktc*(l*1.e2)**3)) # cgs\n",
    "print(r'N = %1.2f x 10^9' %(NH/1.e9)) # cgs\n",
    "#\n",
    "density = NH*hmass\n",
    "mass = 4./3.*N.pi*density*(l*1.e2)**3 ## cgs\n",
    "print('density = %1.2f x 10^-15 g/cm3' %(density/1.e-15))\n",
    "print('mass = %1.2f x 10^17 g' %(mass/1.e17))\n",
    "##############\n",
    "grav = G*Mwd/Dwd**2 + G*Mstar/Dstar**2 + Omega**2*Dcm\n",
    "print('gravity = %d cm/s2' %grav)\n",
    "# Curvature radius (for now using the radius of the blob)\n",
    "Rc = 0.3*Rstar*1e2 # cm  \n",
    "B = N.sqrt(4*N.pi*Rc*density*grav)\n",
    "print('B >= ', B)\n",
    "Bsurf = B*Dstar**3/(Rstar*1e2)**3\n",
    "print('Bsurf >= ', Bsurf)"
   ]
  },
  {
   "cell_type": "code",
   "execution_count": 148,
   "metadata": {},
   "outputs": [
    {
     "name": "stdout",
     "output_type": "stream",
     "text": [
      "0.9946098423644828\n"
     ]
    }
   ],
   "source": [
    "# Steengs 1996\n",
    "NH = N.sqrt((1.472022e20/47.7*150)**2/1.82e-25/1e30*3*1e-13)\n",
    "hmass = 1.6735575e-24 # in g\n",
    "print(NH*hmass*1e30/1.e18)"
   ]
  },
  {
   "cell_type": "code",
   "execution_count": 184,
   "metadata": {},
   "outputs": [
    {
     "data": {
      "text/plain": [
       "0.9687300455560784"
      ]
     },
     "execution_count": 184,
     "metadata": {},
     "output_type": "execute_result"
    }
   ],
   "source": [
    "N.sqrt(4*N.pi*Rc*4.4e-15*867)"
   ]
  },
  {
   "cell_type": "markdown",
   "metadata": {},
   "source": [
    "### Rmax\n",
    "> We can sustain structures up to the WD"
   ]
  },
  {
   "cell_type": "code",
   "execution_count": 194,
   "metadata": {},
   "outputs": [],
   "source": [
    "r = N.linspace(1.68,5,60)*Rstar*1.e2 # cm\n",
    "grav1 = G*Mwd/(3.58*Rstar*1.e2 - r)**2 + G*Mstar/(1.679*Rstar*1.e2 + r)**2 + Omega**2*(r-1.679*Rstar*1e2)\n",
    "B = N.sqrt(4*N.pi*Rc*density*grav)\n",
    "Breal = 90*(Rstar*1.e2/r)**3\n",
    "ib = N.argmin(N.abs(1 - B/Breal))"
   ]
  },
  {
   "cell_type": "code",
   "execution_count": 195,
   "metadata": {},
   "outputs": [
    {
     "data": {
      "text/plain": [
       "Text(0.5,1,'r = 4.55 Rstar')"
      ]
     },
     "execution_count": 195,
     "metadata": {},
     "output_type": "execute_result"
    },
    {
     "data": {
      "image/png": "[encoded data removed]",
      "text/plain": [
       "<Figure size 432x288 with 1 Axes>"
      ]
     },
     "metadata": {
      "needs_background": "light"
     },
     "output_type": "display_data"
    }
   ],
   "source": [
    "P.plot(r/(Rstar*1.e2), B/Breal)\n",
    "P.plot(r[ib]/(Rstar*1.e2)*N.ones_like(r), B/Breal, 'k--', dashes=[5,7] )\n",
    "P.title('r = %1.2f Rstar' %(r[ib]/(Rstar*1.e2)), fontsize='large')"
   ]
  }
 ],
 "metadata": {
  "kernelspec": {
   "display_name": "Python 3",
   "language": "python",
   "name": "python3"
  },
  "language_info": {
   "codemirror_mode": {
    "name": "ipython",
    "version": 3
   },
   "file_extension": ".py",
   "mimetype": "text/x-python",
   "name": "python",
   "nbconvert_exporter": "python",
   "pygments_lexer": "ipython3",
   "version": "3.7.2"
  },
  "latex_envs": {
   "LaTeX_envs_menu_present": true,
   "autoclose": false,
   "autocomplete": true,
   "bibliofile": "biblio.bib",
   "cite_by": "apalike",
   "current_citInitial": 1,
   "eqLabelWithNumbers": true,
   "eqNumInitial": 1,
   "hotkeys": {
    "equation": "Ctrl-E",
    "itemize": "Ctrl-I"
   },
   "labels_anchors": false,
   "latex_user_defs": false,
   "report_style_numbering": false,
   "user_envs_cfg": false
  }
 },
 "nbformat": 4,
 "nbformat_minor": 2
}
