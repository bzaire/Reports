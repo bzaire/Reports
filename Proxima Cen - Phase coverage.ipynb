{
 "cells": [
  {
   "cell_type": "markdown",
   "metadata": {},
   "source": [
    "# Proposal Proxima Cen"
   ]
  },
  {
   "cell_type": "code",
   "execution_count": 1,
   "metadata": {},
   "outputs": [],
   "source": [
    "import numpy as N\n",
    "\n",
    "Prot = 90.*24. # h\n",
    "\n",
    "obsStep = 7200./3600. # h"
   ]
  },
  {
   "cell_type": "markdown",
   "metadata": {},
   "source": [
    "# Phase coverage\n",
    "## Setups with 35 days of observation\n",
    "- 1 stokes V profile per day"
   ]
  },
  {
   "cell_type": "code",
   "execution_count": 16,
   "metadata": {},
   "outputs": [],
   "source": [
    "Ndays = 35 # Number of days observed \n",
    "tinit = 1.; tend = 2.4\n",
    "\n",
    "time_obs_setup1 = N.arange(tinit, tend, obsStep)\n",
    "time_obs_setup2 = N.arange(tinit, tend, obsStep)\n",
    "time_obs_setup3 = N.arange(tinit, tend, obsStep)\n",
    "\n",
    "\n",
    "\n",
    "count = 1\n",
    "while count < 6*Ndays:\n",
    "    if count in N.arange(0, 4*Ndays,4):  # considering 3-d gap \n",
    "        time_obs_setup1 = N.concatenate((time_obs_setup1, N.arange(tinit, tend, obsStep) + count*24))\n",
    "    if count in N.arange(0, 5*Ndays,5):  # considering 4-d gap \n",
    "        time_obs_setup2 = N.concatenate((time_obs_setup2, N.arange(tinit, tend, obsStep) + count*24))\n",
    "    if count in N.arange(0, 6*Ndays,6):  # considering 5-d gap \n",
    "        time_obs_setup3 = N.concatenate((time_obs_setup3, N.arange(tinit, tend, obsStep) + count*24))\n",
    "    count += 1"
   ]
  },
  {
   "cell_type": "code",
   "execution_count": 17,
   "metadata": {},
   "outputs": [
    {
     "name": "stdout",
     "output_type": "stream",
     "text": [
      "(35,) (35,) (35,)\n",
      "1 1 2\n"
     ]
    }
   ],
   "source": [
    "phase_obs_setup1 = (time_obs_setup1/Prot)%1\n",
    "cycle_obs_setup1 = time_obs_setup1/Prot\n",
    "\n",
    "phase_obs_setup2 = (time_obs_setup2/Prot)%1\n",
    "cycle_obs_setup2 = time_obs_setup2/Prot\n",
    "\n",
    "phase_obs_setup3 = (time_obs_setup3/Prot)%1\n",
    "cycle_obs_setup3 = time_obs_setup3/Prot\n",
    "\n",
    "print(phase_obs_setup1.shape, phase_obs_setup2.shape, phase_obs_setup3.shape)\n",
    "print(N.int(cycle_obs_setup1[-1]), N.int(cycle_obs_setup2[-1]), N.int(cycle_obs_setup3[-1]))"
   ]
  },
  {
   "cell_type": "code",
   "execution_count": 20,
   "metadata": {},
   "outputs": [
    {
     "data": {
      "image/png": "[encoded data removed]",
      "text/plain": [
       "<Figure size 400x600 with 1 Axes>"
      ]
     },
     "metadata": {
      "needs_background": "light"
     },
     "output_type": "display_data"
    }
   ],
   "source": [
    "fig, ax = P.subplots(figsize=(4,6), dpi=100)\n",
    "ax.scatter(1*N.ones(phase_obs_setup1.shape), phase_obs_setup1, s=100, c='indigo',label='3-d gap')\n",
    "ax.scatter(2*N.ones(phase_obs_setup2.shape), phase_obs_setup2, s=100, c='orangered', label='4-d gap')\n",
    "ax.scatter(3*N.ones(phase_obs_setup3.shape), phase_obs_setup3, s=100, c='b', label='5-d gap')\n",
    "\n",
    "P.xticks([1,2,3],['3-d gap', '4-d gap','5-d gap'])\n",
    "P.ylabel('Rotational phase', fontsize='large')\n",
    "P.ylim((0.,1.))\n",
    "P.title('35-day setups (1 profile/d)', fontsize='large')\n",
    "P.tight_layout()\n",
    "P.savefig('ObsPhase_ProxCen.pdf')"
   ]
  },
  {
   "cell_type": "code",
   "execution_count": 21,
   "metadata": {},
   "outputs": [
    {
     "data": {
      "text/plain": [
       "1.9444444444444444"
      ]
     },
     "execution_count": 21,
     "metadata": {},
     "output_type": "execute_result"
    }
   ],
   "source": [
    "5*35/90."
   ]
  },
  {
   "cell_type": "code",
   "execution_count": 22,
   "metadata": {},
   "outputs": [
    {
     "data": {
      "text/plain": [
       "array([4.62962963e-04, 4.49074074e-02, 8.93518519e-02, 1.33796296e-01,\n",
       "       1.78240741e-01, 2.22685185e-01, 2.67129630e-01, 3.11574074e-01,\n",
       "       3.56018519e-01, 4.00462963e-01, 4.44907407e-01, 4.89351852e-01,\n",
       "       5.33796296e-01, 5.78240741e-01, 6.22685185e-01, 6.67129630e-01,\n",
       "       7.11574074e-01, 7.56018519e-01, 8.00462963e-01, 8.44907407e-01,\n",
       "       8.89351852e-01, 9.33796296e-01, 9.78240741e-01, 1.02268519e+00,\n",
       "       1.06712963e+00, 1.11157407e+00, 1.15601852e+00, 1.20046296e+00,\n",
       "       1.24490741e+00, 1.28935185e+00, 1.33379630e+00, 1.37824074e+00,\n",
       "       1.42268519e+00, 1.46712963e+00, 1.51157407e+00])"
      ]
     },
     "execution_count": 22,
     "metadata": {},
     "output_type": "execute_result"
    }
   ],
   "source": [
    "cycle_obs_setup1"
   ]
  },
  {
   "cell_type": "code",
   "execution_count": 23,
   "metadata": {},
   "outputs": [
    {
     "data": {
      "text/plain": [
       "array([4.62962963e-04, 5.60185185e-02, 1.11574074e-01, 1.67129630e-01,\n",
       "       2.22685185e-01, 2.78240741e-01, 3.33796296e-01, 3.89351852e-01,\n",
       "       4.44907407e-01, 5.00462963e-01, 5.56018519e-01, 6.11574074e-01,\n",
       "       6.67129630e-01, 7.22685185e-01, 7.78240741e-01, 8.33796296e-01,\n",
       "       8.89351852e-01, 9.44907407e-01, 1.00046296e+00, 1.05601852e+00,\n",
       "       1.11157407e+00, 1.16712963e+00, 1.22268519e+00, 1.27824074e+00,\n",
       "       1.33379630e+00, 1.38935185e+00, 1.44490741e+00, 1.50046296e+00,\n",
       "       1.55601852e+00, 1.61157407e+00, 1.66712963e+00, 1.72268519e+00,\n",
       "       1.77824074e+00, 1.83379630e+00, 1.88935185e+00])"
      ]
     },
     "execution_count": 23,
     "metadata": {},
     "output_type": "execute_result"
    }
   ],
   "source": [
    "cycle_obs_setup2"
   ]
  },
  {
   "cell_type": "code",
   "execution_count": 8,
   "metadata": {},
   "outputs": [
    {
     "data": {
      "text/plain": [
       "array([4.62962963e-04, 6.71296296e-02, 1.33796296e-01, 2.00462963e-01,\n",
       "       2.67129630e-01, 3.33796296e-01, 4.00462963e-01, 4.67129630e-01,\n",
       "       5.33796296e-01, 6.00462963e-01, 6.67129630e-01, 7.33796296e-01,\n",
       "       8.00462963e-01, 8.67129630e-01, 9.33796296e-01, 1.00046296e+00,\n",
       "       1.06712963e+00, 1.13379630e+00, 1.20046296e+00, 1.26712963e+00,\n",
       "       1.33379630e+00, 1.40046296e+00, 1.46712963e+00, 1.53379630e+00,\n",
       "       1.60046296e+00, 1.66712963e+00, 1.73379630e+00, 1.80046296e+00,\n",
       "       1.86712963e+00, 1.93379630e+00, 2.00046296e+00, 2.06712963e+00,\n",
       "       2.13379630e+00, 2.20046296e+00, 2.26712963e+00])"
      ]
     },
     "execution_count": 8,
     "metadata": {},
     "output_type": "execute_result"
    }
   ],
   "source": [
    "cycle_obs_setup3"
   ]
  },
  {
   "cell_type": "code",
   "execution_count": 19,
   "metadata": {},
   "outputs": [
    {
     "data": {
      "text/plain": [
       "array([4.62962963e-04, 6.71296296e-02, 1.33796296e-01, 2.00462963e-01,\n",
       "       2.67129630e-01, 3.33796296e-01, 4.00462963e-01, 4.67129630e-01,\n",
       "       5.33796296e-01, 6.00462963e-01, 6.67129630e-01, 7.33796296e-01,\n",
       "       8.00462963e-01, 8.67129630e-01, 9.33796296e-01, 4.62962963e-04,\n",
       "       6.71296296e-02, 1.33796296e-01, 2.00462963e-01, 2.67129630e-01,\n",
       "       3.33796296e-01, 4.00462963e-01, 4.67129630e-01, 5.33796296e-01,\n",
       "       6.00462963e-01, 6.67129630e-01, 7.33796296e-01, 8.00462963e-01,\n",
       "       8.67129630e-01, 9.33796296e-01, 4.62962963e-04, 6.71296296e-02,\n",
       "       1.33796296e-01, 2.00462963e-01, 2.67129630e-01])"
      ]
     },
     "execution_count": 19,
     "metadata": {},
     "output_type": "execute_result"
    }
   ],
   "source": [
    "phase_obs_setup3"
   ]
  },
  {
   "cell_type": "code",
   "execution_count": null,
   "metadata": {},
   "outputs": [],
   "source": []
  }
 ],
 "metadata": {
  "kernelspec": {
   "display_name": "Python 3",
   "language": "python",
   "name": "python3"
  },
  "language_info": {
   "codemirror_mode": {
    "name": "ipython",
    "version": 3
   },
   "file_extension": ".py",
   "mimetype": "text/x-python",
   "name": "python",
   "nbconvert_exporter": "python",
   "pygments_lexer": "ipython3",
   "version": "3.7.2"
  },
  "latex_envs": {
   "LaTeX_envs_menu_present": true,
   "autoclose": false,
   "autocomplete": true,
   "bibliofile": "biblio.bib",
   "cite_by": "apalike",
   "current_citInitial": 1,
   "eqLabelWithNumbers": true,
   "eqNumInitial": 1,
   "hotkeys": {
    "equation": "Ctrl-E",
    "itemize": "Ctrl-I"
   },
   "labels_anchors": false,
   "latex_user_defs": false,
   "report_style_numbering": false,
   "user_envs_cfg": false
  }
 },
 "nbformat": 4,
 "nbformat_minor": 2
}
