{
 "cells": [
  {
   "cell_type": "markdown",
   "metadata": {},
   "source": [
    "# $vsin(i)$"
   ]
  },
  {
   "cell_type": "markdown",
   "metadata": {},
   "source": [
    "### DATA IN 2004  "
   ]
  },
  {
   "cell_type": "markdown",
   "metadata": {},
   "source": [
    "- Total of 231 sub-exposures in November. Four of them were discarded of the data."
   ]
  },
  {
   "cell_type": "code",
   "execution_count": 40,
   "metadata": {},
   "outputs": [
    {
     "name": "stdout",
     "output_type": "stream",
     "text": [
      "3.5973811065544285e-05\n",
      "Best vsin(I) = 90.02 +- 0.03\n"
     ]
    },
    {
     "data": {
      "image/png": "[encoded data removed]",
      "text/plain": [
       "<Figure size 432x288 with 1 Axes>"
      ]
     },
     "metadata": {
      "needs_background": "light"
     },
     "output_type": "display_data"
    }
   ],
   "source": [
    "# load modules\n",
    "import numpy as N\n",
    "import matplotlib.pyplot as P\n",
    "from scipy.optimize import leastsq\n",
    "import cmocean as cm\n",
    "import matplotlib.font_manager\n",
    "\n",
    "#First read the number of points in the data:\n",
    "cycle, vr, snI, I, cycleV, vrV, snV, V = rstokes('data/v471tau_04.ss')\n",
    "count=0\n",
    "for i in range(len(cycle)):\n",
    "    count += I[i].shape[0]\n",
    "print(1./count)\n",
    "\n",
    "\n",
    "# Read file with informations in each run\n",
    "vsin, chisq, s, sp_ph, test, cool, hot = N.genfromtxt('data/search_vsin_chipot_2004.txt', unpack=True)\n",
    "\n",
    "isp = chisq < 1.03\n",
    "vsin = vsin[isp]; chisq = chisq[isp]; s = s[isp] \n",
    "sp_ph = sp_ph[isp]; test = test[isp]; cool = cool[isp]; hot = hot[isp]\n",
    "\n",
    "fit = N.polyfit(vsin, chisq, deg = 2)\n",
    "best_vsin = - fit[1]/(2.*fit[0])\n",
    "\n",
    "dvsin = 1./fit[0]*N.sqrt(fit[1]**2 + 4*fit[0]*(fit[0]*best_vsin**2 + fit[1]*best_vsin + 1./count))\n",
    "\n",
    "P.scatter(vsin, chisq)\n",
    "P.plot(best_vsin,N.polyval(fit,best_vsin),marker='x',color='k')\n",
    "P.ylabel(r'$\\chi_\\mathrm{r}^2$', fontsize='large')\n",
    "P.xticks([89.8,90.1,90.4], fontsize='medium')\n",
    "P.yticks(fontsize='medium')\n",
    "P.xlabel(r'$v\\sin(i)$', fontsize='large')\n",
    "P.ylim((0.985,1.03))\n",
    "P.tight_layout()\n",
    "P.savefig('vsin_2004.png')\n",
    "print('Best vsin(I) = %.2f +- %.2f' %(best_vsin,dvsin))"
   ]
  },
  {
   "cell_type": "markdown",
   "metadata": {},
   "source": [
    "### DATA IN 2005"
   ]
  },
  {
   "cell_type": "code",
   "execution_count": 41,
   "metadata": {},
   "outputs": [
    {
     "name": "stdout",
     "output_type": "stream",
     "text": [
      "2.0420665713702267e-05\n",
      "Best vsin(I) = 90.40 +- 0.02\n"
     ]
    },
    {
     "data": {
      "image/png": "[encoded data removed]",
      "text/plain": [
       "<Figure size 432x288 with 1 Axes>"
      ]
     },
     "metadata": {
      "needs_background": "light"
     },
     "output_type": "display_data"
    }
   ],
   "source": [
    "#First read the number of points in the data:\n",
    "cycle, vr, snI, I, cycleV, vrV, snV, V = rstokes('data/v471tau_05.ss')\n",
    "count=0\n",
    "for i in range(len(cycle)):\n",
    "    count += I[i].shape[0]\n",
    "print(1./count)\n",
    "# Read file with informations in each run\n",
    "vsin, chisq, s, sp_ph, test, cool, hot = N.genfromtxt('data/search_vsin_chipot_2005.txt', unpack=True)\n",
    "\n",
    "isp = chisq < 1.03\n",
    "vsin = vsin[isp]; chisq = chisq[isp]; s = s[isp] \n",
    "sp_ph = sp_ph[isp]; test = test[isp]; cool = cool[isp]; hot = hot[isp]\n",
    "\n",
    "fit = N.polyfit(vsin, chisq, deg = 2)\n",
    "best_vsin = - fit[1]/(2.*fit[0])\n",
    "dvsin = 1./fit[0]*N.sqrt(fit[1]**2 + 4*fit[0]*(fit[0]*best_vsin**2 + fit[1]*best_vsin + 1./count))\n",
    "\n",
    "P.scatter(vsin, chisq)\n",
    "P.plot(best_vsin,N.polyval(fit,best_vsin),marker='x',color='k')\n",
    "P.xticks([89.8,90.1,90.4, 90.7, 91.], fontsize='medium')\n",
    "P.ylabel(r'$\\chi_\\mathrm{r}^2$', fontsize='large')\n",
    "P.yticks(fontsize='medium')\n",
    "P.xlabel(r'$v\\sin(i)$', fontsize='large')\n",
    "P.ylim((0.985,1.03))\n",
    "P.xlabel(r'$v\\sin(i)$', fontsize=20)\n",
    "P.tight_layout()\n",
    "P.savefig('vsin_2005.png')\n",
    "print('Best vsin(I) = %.2f +- %.2f' %(best_vsin,dvsin))\n",
    "\n"
   ]
  },
  {
   "cell_type": "code",
   "execution_count": 42,
   "metadata": {},
   "outputs": [
    {
     "data": {
      "text/plain": [
       "90.26281150159745"
      ]
     },
     "execution_count": 42,
     "metadata": {},
     "output_type": "execute_result"
    }
   ],
   "source": [
    "(90.02*226 + 90.4*400)/626"
   ]
  },
  {
   "cell_type": "code",
   "execution_count": 43,
   "metadata": {},
   "outputs": [
    {
     "data": {
      "text/plain": [
       "0.023610223642172523"
      ]
     },
     "execution_count": 43,
     "metadata": {},
     "output_type": "execute_result"
    }
   ],
   "source": [
    "(.03*226 + .02*400)/626"
   ]
  },
  {
   "cell_type": "code",
   "execution_count": 44,
   "metadata": {},
   "outputs": [
    {
     "data": {
      "text/plain": [
       "149.2802875399361"
      ]
     },
     "execution_count": 44,
     "metadata": {},
     "output_type": "execute_result"
    }
   ],
   "source": [
    "(149.21*226 + 149.32*400)/626"
   ]
  }
 ],
 "metadata": {
  "kernelspec": {
   "display_name": "Python 3",
   "language": "python",
   "name": "python3"
  },
  "language_info": {
   "codemirror_mode": {
    "name": "ipython",
    "version": 3
   },
   "file_extension": ".py",
   "mimetype": "text/x-python",
   "name": "python",
   "nbconvert_exporter": "python",
   "pygments_lexer": "ipython3",
   "version": "3.7.2"
  },
  "latex_envs": {
   "LaTeX_envs_menu_present": true,
   "autoclose": false,
   "autocomplete": true,
   "bibliofile": "biblio.bib",
   "cite_by": "apalike",
   "current_citInitial": 1,
   "eqLabelWithNumbers": true,
   "eqNumInitial": 1,
   "hotkeys": {
    "equation": "Ctrl-E",
    "itemize": "Ctrl-I"
   },
   "labels_anchors": false,
   "latex_user_defs": false,
   "report_style_numbering": false,
   "user_envs_cfg": false
  }
 },
 "nbformat": 4,
 "nbformat_minor": 2
}
