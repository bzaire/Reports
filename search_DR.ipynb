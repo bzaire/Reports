{
 "cells": [
  {
   "cell_type": "markdown",
   "metadata": {},
   "source": [
    "# V471TAU"
   ]
  },
  {
   "cell_type": "markdown",
   "metadata": {},
   "source": [
    "## Differential Rotation \n",
    "\n",
    "The parameters that will be used in each epoch are:\n",
    "\n",
    "|           Parameter   | 2004       |  2005     |\n",
    "|              :---:    | :---:      | :---:     |\n",
    "|$K$ (km/s)             | $149.4$    | $149.4$   |  \n",
    "|$v_\\mathrm{rad}$ (km/s)| $34.7$     | $35.0$    |\n",
    "|$\\phi$                 | $-0.0029$  | $-0.0041$ | \n",
    "| $i$                   | $80$       | $80$      |\n",
    "|$v\\sin(i)$ (km/s)      | $90.1$     |  $90.1$   |\n",
    "| EQW                   | $5.12$     | $5.12$    |\n",
    "\n",
    "Also, we keep $\\chi^2_{\\mathrm{aim}} = 0.32 $ as used since the beginning. "
   ]
  },
  {
   "cell_type": "markdown",
   "metadata": {},
   "source": [
    "### DATA IN 2004  "
   ]
  },
  {
   "cell_type": "code",
   "execution_count": 1,
   "metadata": {},
   "outputs": [
    {
     "name": "stdout",
     "output_type": "stream",
     "text": [
      "Positions of the center in this plane:\n",
      "beta = -0.0040 and gamma = 0.0083\n"
     ]
    }
   ],
   "source": [
    "# load modules\n",
    "import numpy as N\n",
    "import matplotlib.pyplot as P\n",
    "from scipy.optimize import leastsq\n",
    "import cmocean as cm\n",
    "import matplotlib.font_manager\n",
    "\n",
    "# Read file with informations in each run\n",
    "beta, gamma, chisq, s, sp_ph, test, cool, hot = N.genfromtxt('data/search1_dr_2004.txt', unpack=True)\n",
    "\n",
    "# Set global min of spot coverage\n",
    "vmin = sp_ph.min()\n",
    "\n",
    "#select data within the conditions:\n",
    "ic = N.bitwise_and(chisq <= 0.3205, test <= 0.003)\n",
    "beta = beta[ic]; gamma = gamma[ic]; chisq = chisq[ic]; s = s[ic]; sp_ph = sp_ph[ic] \n",
    "test = test[ic]; cool = cool[ic]; hot = hot[ic]\n",
    "#we also add another condition for the data (optional):\n",
    "isp = N.bitwise_and(sp_ph >= 1.00*vmin, sp_ph <= 1.20*vmin)\n",
    "beta = beta[isp]; gamma = gamma[isp]; chisq = chisq[isp]; s = s[isp]; sp_ph = sp_ph[isp] \n",
    "test = test[isp]; cool = cool[isp]; hot = hot[isp]\n",
    "\n",
    "# Create a mesh and create new matrix with mesh's shape\n",
    "x, y = N.meshgrid(N.unique(beta), N.unique(gamma))\n",
    "m_z = N.ones_like(x)*9999.\n",
    "\n",
    "for i in range(sp_ph.shape[0]):\n",
    "    indx = N.bitwise_and(x == beta[i], y == gamma[i])\n",
    "    m_z[indx] = sp_ph[i]\n",
    "    \n",
    "mask = m_z > 1.08*vmin\n",
    "z=N.ma.array(m_z, mask=mask)  \n",
    "# find center in the 2d-plane\n",
    "optimize_func = lambda x: x[0]*beta**2 + x[1]*beta + x[2]*gamma**2 + x[3]*gamma \\\n",
    "                            + x[4]*beta*gamma + x[5] - sp_ph\n",
    "coef = leastsq(optimize_func, [1.,1.,1.,1.,1.,1.])[0]\n",
    "a, b, c, d, e, f = coef.copy()\n",
    "best_x = 1./(4*a*c/e - e)*(d - 2.*c*b/e)\n",
    "best_y = 1./(4*a*c/e - e)*(b - 2.*a*d/e)\n",
    "print('Positions of the center in this plane:')\n",
    "print('beta = %6.4f and gamma = %6.4f' %(best_x, best_y))"
   ]
  },
  {
   "cell_type": "markdown",
   "metadata": {},
   "source": [
    "### DATA IN 2005  "
   ]
  },
  {
   "cell_type": "code",
   "execution_count": 10,
   "metadata": {},
   "outputs": [
    {
     "name": "stdout",
     "output_type": "stream",
     "text": [
      "Positions of the center in this plane:\n",
      "beta = -0.0031 and gamma = 0.0053\n"
     ]
    }
   ],
   "source": [
    "# Read file with informations in each run\n",
    "beta, gamma, chisq, s, sp_ph, test, cool, hot = N.genfromtxt('data/search1_dr_2005.txt', unpack=True)\n",
    "\n",
    "# Set global min of spot coverage\n",
    "vmin = sp_ph.min()\n",
    "\n",
    "#select data within the conditions:\n",
    "ic = N.bitwise_and(chisq <= 0.3205, test <= 0.003)\n",
    "beta = beta[ic]; gamma = gamma[ic]; chisq = chisq[ic]; s = s[ic]; sp_ph = sp_ph[ic] \n",
    "test = test[ic]; cool = cool[ic]; hot = hot[ic]\n",
    "#we also add another condition for the data (optional):\n",
    "isp = N.bitwise_and(sp_ph >= 1.00*vmin, sp_ph <= 1.20*vmin)\n",
    "beta = beta[isp]; gamma = gamma[isp]; chisq = chisq[isp]; s = s[isp]; sp_ph = sp_ph[isp] \n",
    "test = test[isp]; cool = cool[isp]; hot = hot[isp]\n",
    "\n",
    "# Create a mesh and create new matrix with mesh's shape\n",
    "x, y = N.meshgrid(N.unique(beta), N.unique(gamma))\n",
    "m_z = N.ones_like(x)*9999.\n",
    "\n",
    "for i in range(sp_ph.shape[0]):\n",
    "    indx = N.bitwise_and(x == beta[i], y == gamma[i])\n",
    "    m_z[indx] = sp_ph[i]\n",
    "    \n",
    "mask = m_z > 1.08*vmin\n",
    "z=N.ma.array(m_z, mask=mask)  \n",
    "# find center in the 2d-plane\n",
    "optimize_func = lambda x: x[0]*beta**2 + x[1]*beta + x[2]*gamma**2 + x[3]*gamma \\\n",
    "                            + x[4]*beta*gamma + x[5] - sp_ph\n",
    "coef = leastsq(optimize_func, [1.,1.,1.,1.,1.,1.])[0]\n",
    "a, b, c, d, e, f = coef.copy()\n",
    "best_x = 1./(4*a*c/e - e)*(d - 2.*c*b/e)\n",
    "best_y = 1./(4*a*c/e - e)*(b - 2.*a*d/e)\n",
    "print('Positions of the center in this plane:')\n",
    "print('beta = %6.4f and gamma = %6.4f' %(best_x, best_y))"
   ]
  },
  {
   "cell_type": "code",
   "execution_count": 18,
   "metadata": {},
   "outputs": [
    {
     "data": {
      "image/png": "[encoded data removed]",
      "text/plain": [
       "<Figure size 432x288 with 2 Axes>"
      ]
     },
     "metadata": {
      "needs_background": "light"
     },
     "output_type": "display_data"
    }
   ],
   "source": [
    "cmap = plt.get_cmap('Wistia', 3)\n",
    "\n",
    "P.scatter(x,y,c=z, marker = 's', s=30, cmap=cmap, vmin = vmin, vmax = 1.02*vmin)\n",
    "P.xlim((x.min(), x.max()))\n",
    "P.ylim((y.min(), y.max()))\n",
    "P.plot(best_x, best_y, 'x', color='k')\n",
    "P.colorbar()\n",
    "P.xlabel(r'$\\beta$')\n",
    "P.ylabel(r'$\\gamma$')\n",
    "P.tight_layout()\n"
   ]
  },
  {
   "cell_type": "code",
   "execution_count": null,
   "metadata": {},
   "outputs": [],
   "source": []
  }
 ],
 "metadata": {
  "kernelspec": {
   "display_name": "Python 3",
   "language": "python",
   "name": "python3"
  },
  "language_info": {
   "codemirror_mode": {
    "name": "ipython",
    "version": 3
   },
   "file_extension": ".py",
   "mimetype": "text/x-python",
   "name": "python",
   "nbconvert_exporter": "python",
   "pygments_lexer": "ipython3",
   "version": "3.7.2"
  },
  "latex_envs": {
   "LaTeX_envs_menu_present": true,
   "autoclose": false,
   "autocomplete": true,
   "bibliofile": "biblio.bib",
   "cite_by": "apalike",
   "current_citInitial": 1,
   "eqLabelWithNumbers": true,
   "eqNumInitial": 1,
   "hotkeys": {
    "equation": "Ctrl-E",
    "itemize": "Ctrl-I"
   },
   "labels_anchors": false,
   "latex_user_defs": false,
   "report_style_numbering": false,
   "user_envs_cfg": false
  }
 },
 "nbformat": 4,
 "nbformat_minor": 2
}
