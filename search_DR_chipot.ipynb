{
 "cells": [
  {
   "cell_type": "markdown",
   "metadata": {},
   "source": [
    "# V471TAU"
   ]
  },
  {
   "cell_type": "markdown",
   "metadata": {},
   "source": [
    "## Differential Rotation \n",
    "\n",
    "The parameters that will be used in each epoch are:\n",
    "\n",
    "|           Parameter   | 2004       |  2005     |\n",
    "|              :---:    | :---:      | :---:     |\n",
    "|$K$ (km/s)             | $149.11$    | $149.4$   |  \n",
    "|$v_\\mathrm{rad}$ (km/s)| $34.57$     | $35.0$    |\n",
    "|$\\phi$                 | $-0.00258$  | $-0.0041$ | \n",
    "| $i$                   | $80$       | $80$      |\n",
    "|$v\\sin(i)$ (km/s)      | $89.7$     |  $90.1$   |\n",
    "| EQW                   | $5.12$     | $5.12$    |\n"
   ]
  },
  {
   "cell_type": "markdown",
   "metadata": {},
   "source": [
    "### DATA IN 2004  "
   ]
  },
  {
   "cell_type": "code",
   "execution_count": 107,
   "metadata": {},
   "outputs": [
    {
     "name": "stdout",
     "output_type": "stream",
     "text": [
      "Position of the center on this plane:\n",
      "beta = -0.0039 and gamma = 0.0077\n",
      "Omega_EQ = 12.103 and dO = 0.093\n",
      "dO_EQ = 0.002 and ddO = 0.009\n",
      "12.055613163954858\n"
     ]
    }
   ],
   "source": [
    "# load modules\n",
    "import numpy as N\n",
    "import matplotlib.pyplot as P\n",
    "from scipy.optimize import leastsq\n",
    "import cmocean as cm\n",
    "import matplotlib.font_manager\n",
    "\n",
    "# Read file with informations in each run\n",
    "beta, gamma, chisq, s, sp_ph, test, cool, hot = N.genfromtxt('data/search1_dr_i_chipot_2004.txt', unpack=True)\n",
    "\n",
    "# Set global min of chisq\n",
    "vmin = chisq.min()\n",
    "\n",
    "#select data within the conditions:\n",
    "isp = N.bitwise_and(N.bitwise_and(sp_ph <= 0.14005, sp_ph >= 0.13995), test <=0.005)\n",
    "beta = beta[isp]; gamma = gamma[isp]; chisq = chisq[isp]; s = s[isp]; sp_ph = sp_ph[isp] \n",
    "test = test[isp]; cool = cool[isp]; hot = hot[isp]\n",
    "#we also add another condition for the data (optional):\n",
    "level = 1.05\n",
    "ic = N.bitwise_and(chisq >= 1.00*vmin, chisq <= level*vmin)\n",
    "beta = beta[ic]; gamma = gamma[ic]; chisq = chisq[ic]; s = s[ic]; sp_ph = sp_ph[ic] \n",
    "test = test[ic]; cool = cool[ic]; hot = hot[ic]\n",
    "\n",
    "# Set max chisq\n",
    "vmax = chisq.max()\n",
    "\n",
    "# Create a mesh and create new matrix with mesh's shape\n",
    "x, y = N.meshgrid(N.unique(beta), N.unique(gamma))\n",
    "m_z = N.ones_like(x)*9999.\n",
    "\n",
    "for i in range(sp_ph.shape[0]):\n",
    "    indx = N.bitwise_and(x == beta[i], y == gamma[i])\n",
    "    m_z[indx] = chisq[i]\n",
    "    \n",
    "mask = m_z > level*vmin\n",
    "z=N.ma.array(m_z, mask=mask)  \n",
    "# find center in the 2d-plane\n",
    "optimize_func = lambda x: x[0]*beta**2 + x[1]*beta + x[2]*gamma**2 + x[3]*gamma \\\n",
    "                            + x[4]*beta*gamma + x[5] - chisq\n",
    "coef = leastsq(optimize_func, [1.,1.,1.,1.,1.,1.])[0]\n",
    "a, b, c, d, e, f = coef.copy()\n",
    "best_x = 1./(4*a*c/e - e)*(d - 2.*c*b/e)\n",
    "best_y = 1./(4*a*c/e - e)*(b - 2.*a*d/e)\n",
    "dx = 1./N.sqrt(a - e**2/(4*c))\n",
    "dy = 1./N.sqrt(c - e**2/(4*a))\n",
    "# Now we need to find the number of points to find the error bar\n",
    "cycle, vr, snI, I, cycleV, vrV, snV, V = rstokes('data/v471tau_04.ss_search1_3d')\n",
    "count=0\n",
    "for i in range(len(cycle)):\n",
    "    count += I[i].shape[0]\n",
    "dx /= N.sqrt(count)\n",
    "dy /= N.sqrt(count)\n",
    "print('Position of the center on this plane:')\n",
    "print('beta = %6.4f and gamma = %6.4f' %(best_x, best_y))\n",
    "period =  0.5211833875 # in days\n",
    "Omega0 = 2*N.pi/period\n",
    "print(r'Omega_EQ = %4.3f and dO = %4.3f' %((1-best_x)*Omega0, best_y*Omega0))\n",
    "print(r'dO_EQ = %4.3f and ddO = %4.3f' %((dx)*Omega0, dy*Omega0))\n",
    "print(Omega0)"
   ]
  },
  {
   "cell_type": "code",
   "execution_count": 109,
   "metadata": {
    "scrolled": true
   },
   "outputs": [
    {
     "data": {
      "image/png": "[encoded data removed]",
      "text/plain": [
       "<Figure size 432x288 with 2 Axes>"
      ]
     },
     "metadata": {
      "needs_background": "light"
     },
     "output_type": "display_data"
    }
   ],
   "source": [
    "cmap = plt.get_cmap('Wistia', 3)\n",
    "P.rcParams['font.family'] = 'arial'\n",
    "# with stokes-I\n",
    "Oeq = (1 - x)*Omega0\n",
    "dO = y*Omega0\n",
    "v1 = [1.0*vmin,1.01*vmin,1.02*vmin,1.03*vmin] # levels to plot\n",
    "P.contourf(Oeq, dO, z, levels=v1, cmap=cmap, alpha=0.8)\n",
    "cmb = P.colorbar()\n",
    "cmb.ax.set_yticklabels([\"{:1.3f}\".format(i) for i in v1])\n",
    "#P.contour(Oeq, dO, z, 5, colors='g', alpha=0.2)#, levels = N.linspace(vmin, vmax, 8), cmap=cmap)\n",
    "P.plot(Omega0, 0.05, 'x', color='k')\n",
    "P.errorbar((1-best_x)*Omega0, best_y*Omega0, xerr=(dx)*Omega0, yerr=(dy)*Omega0, fmt='-o', color='k')\n",
    "P.xlim((Oeq.min(), Oeq.max()))\n",
    "P.ylim((dO.min(), dO.max()))\n",
    "P.xlabel(r'$\\Omega_\\mathrm{eq} \\left(\\frac{rad}{d}\\right)$', fontsize=20)\n",
    "P.ylabel(r'$d\\Omega \\left(\\frac{rad}{d}\\right)$', fontsize=20)\n",
    "P.tight_layout()"
   ]
  },
  {
   "cell_type": "code",
   "execution_count": 110,
   "metadata": {},
   "outputs": [
    {
     "ename": "ValueError",
     "evalue": "zero-size array to reduction operation maximum which has no identity",
     "output_type": "error",
     "traceback": [
      "\u001b[0;31m---------------------------------------------------------------------------\u001b[0m",
      "\u001b[0;31mValueError\u001b[0m                                Traceback (most recent call last)",
      "\u001b[0;32m<ipython-input-110-96b0a028f3e1>\u001b[0m in \u001b[0;36m<module>\u001b[0;34m()\u001b[0m\n\u001b[1;32m     16\u001b[0m \u001b[0;34m\u001b[0m\u001b[0m\n\u001b[1;32m     17\u001b[0m \u001b[0;31m# Set max chisq\u001b[0m\u001b[0;34m\u001b[0m\u001b[0;34m\u001b[0m\u001b[0;34m\u001b[0m\u001b[0m\n\u001b[0;32m---> 18\u001b[0;31m \u001b[0mvmax_v\u001b[0m \u001b[0;34m=\u001b[0m \u001b[0mchisq_v\u001b[0m\u001b[0;34m.\u001b[0m\u001b[0mmax\u001b[0m\u001b[0;34m(\u001b[0m\u001b[0;34m)\u001b[0m\u001b[0;34m\u001b[0m\u001b[0;34m\u001b[0m\u001b[0m\n\u001b[0m\u001b[1;32m     19\u001b[0m \u001b[0;34m\u001b[0m\u001b[0m\n\u001b[1;32m     20\u001b[0m \u001b[0;31m# Create a mesh and create new matrix with mesh's shape\u001b[0m\u001b[0;34m\u001b[0m\u001b[0;34m\u001b[0m\u001b[0;34m\u001b[0m\u001b[0m\n",
      "\u001b[0;32m~/anaconda3/lib/python3.7/site-packages/numpy/core/_methods.py\u001b[0m in \u001b[0;36m_amax\u001b[0;34m(a, axis, out, keepdims, initial)\u001b[0m\n\u001b[1;32m     26\u001b[0m def _amax(a, axis=None, out=None, keepdims=False,\n\u001b[1;32m     27\u001b[0m           initial=_NoValue):\n\u001b[0;32m---> 28\u001b[0;31m     \u001b[0;32mreturn\u001b[0m \u001b[0mumr_maximum\u001b[0m\u001b[0;34m(\u001b[0m\u001b[0ma\u001b[0m\u001b[0;34m,\u001b[0m \u001b[0maxis\u001b[0m\u001b[0;34m,\u001b[0m \u001b[0;32mNone\u001b[0m\u001b[0;34m,\u001b[0m \u001b[0mout\u001b[0m\u001b[0;34m,\u001b[0m \u001b[0mkeepdims\u001b[0m\u001b[0;34m,\u001b[0m \u001b[0minitial\u001b[0m\u001b[0;34m)\u001b[0m\u001b[0;34m\u001b[0m\u001b[0;34m\u001b[0m\u001b[0m\n\u001b[0m\u001b[1;32m     29\u001b[0m \u001b[0;34m\u001b[0m\u001b[0m\n\u001b[1;32m     30\u001b[0m def _amin(a, axis=None, out=None, keepdims=False,\n",
      "\u001b[0;31mValueError\u001b[0m: zero-size array to reduction operation maximum which has no identity"
     ]
    }
   ],
   "source": [
    "# Read file with informations in each run\n",
    "beta_v, gamma_v, chisq_v, s_v, bmod, test_v = N.genfromtxt('data/search1_dr_v_chipot_2004.txt', unpack=True)\n",
    "\n",
    "# Set global min of chisq\n",
    "vmin_v = chisq_v.min()\n",
    "\n",
    "#select data within the conditions:\n",
    "isp = N.bitwise_and(N.bitwise_and(bmod <= 175.005, bmod >= 171.995), test_v <=0.005)\n",
    "beta_v = beta_v[isp]; gamma_v = gamma_v[isp]; chisq_v = chisq_v[isp]; s_v = s_v[isp]; bmod = bmod[isp] \n",
    "test_v = test_v[isp]\n",
    "#we also add another condition for the data (optional):\n",
    "level = 50.\n",
    "isp = N.bitwise_and(bmod >= 1.00*vmin_v, bmod <= level*vmin_v)\n",
    "beta_v = beta_v[isp]; gamma_v = gamma_v[isp]; chisq_v = chisq_v[isp]; s_v = s_v[isp]; bmod = bmod[isp] \n",
    "test_v = test_v[isp]\n",
    "\n",
    "# Set max chisq\n",
    "vmax_v = chisq_v.max()\n",
    "\n",
    "# Create a mesh and create new matrix with mesh's shape\n",
    "x_v, y_v = N.meshgrid(N.unique(beta_v), N.unique(gamma_v))\n",
    "m_z_v = N.ones_like(x_v)*9999.\n",
    "\n",
    "for i in range(bmod.shape[0]):\n",
    "    indx = N.bitwise_and(x_v == beta_v[i], y_v == gamma_v[i])\n",
    "    m_z_v[indx] = chisq_v[i]\n",
    "    \n",
    "mask_v = m_z_v > level*vmin_v\n",
    "z_v=N.ma.array(m_z_v, mask=mask_v)  \n",
    "# find center in the 2d-plane\n",
    "optimize_func = lambda x: x[0]*beta_v**2 + x[1]*beta_v + x[2]*gamma_v**2 + x[3]*gamma_v \\\n",
    "                            + x[4]*beta_v*gamma_v + x[5] - chisq\n",
    "coef_v = leastsq(optimize_func, [1.,1.,1.,1.,1.,1.])[0]\n",
    "a, b, c, d, e, f = coef_v.copy()\n",
    "best_x_v = 1./(4*a*c/e - e)*(d - 2.*c*b/e)\n",
    "best_y_v = 1./(4*a*c/e - e)*(b - 2.*a*d/e)\n",
    "print('Position of the center on this plane:')\n",
    "print('beta = %6.4f and gamma = %6.4f' %(best_x_v, best_y_v))\n",
    "print(r'Omega_EQ = %4.3f and dO = %4.3f' %((1-best_x_v)*Omega0, best_y_v*Omega0))"
   ]
  },
  {
   "cell_type": "code",
   "execution_count": 7,
   "metadata": {},
   "outputs": [],
   "source": [
    "period =  0.521183398 # in days\n",
    "Omega0 = 2*N.pi/period\n"
   ]
  },
  {
   "cell_type": "code",
   "execution_count": 8,
   "metadata": {},
   "outputs": [
    {
     "data": {
      "text/plain": [
       "12.055612921076941"
      ]
     },
     "execution_count": 8,
     "metadata": {},
     "output_type": "execute_result"
    }
   ],
   "source": [
    "Omega0"
   ]
  },
  {
   "cell_type": "code",
   "execution_count": 9,
   "metadata": {},
   "outputs": [
    {
     "data": {
      "text/plain": [
       "0.034999999999999996"
      ]
     },
     "execution_count": 9,
     "metadata": {},
     "output_type": "execute_result"
    }
   ],
   "source": [
    "0.091-0.056\n"
   ]
  },
  {
   "cell_type": "code",
   "execution_count": 10,
   "metadata": {},
   "outputs": [
    {
     "data": {
      "text/plain": [
       "0.0129999999999999"
      ]
     },
     "execution_count": 10,
     "metadata": {},
     "output_type": "execute_result"
    }
   ],
   "source": [
    "12.102-12.089"
   ]
  },
  {
   "cell_type": "code",
   "execution_count": 11,
   "metadata": {},
   "outputs": [
    {
     "data": {
      "text/plain": [
       "0.3714285714285714"
      ]
     },
     "execution_count": 11,
     "metadata": {},
     "output_type": "execute_result"
    }
   ],
   "source": [
    "0.013/0.035"
   ]
  },
  {
   "cell_type": "code",
   "execution_count": null,
   "metadata": {},
   "outputs": [],
   "source": []
  }
 ],
 "metadata": {
  "kernelspec": {
   "display_name": "Python 3",
   "language": "python",
   "name": "python3"
  },
  "language_info": {
   "codemirror_mode": {
    "name": "ipython",
    "version": 3
   },
   "file_extension": ".py",
   "mimetype": "text/x-python",
   "name": "python",
   "nbconvert_exporter": "python",
   "pygments_lexer": "ipython3",
   "version": "3.7.2"
  },
  "latex_envs": {
   "LaTeX_envs_menu_present": true,
   "autoclose": false,
   "autocomplete": true,
   "bibliofile": "biblio.bib",
   "cite_by": "apalike",
   "current_citInitial": 1,
   "eqLabelWithNumbers": true,
   "eqNumInitial": 1,
   "hotkeys": {
    "equation": "Ctrl-E",
    "itemize": "Ctrl-I"
   },
   "labels_anchors": false,
   "latex_user_defs": false,
   "report_style_numbering": false,
   "user_envs_cfg": false
  }
 },
 "nbformat": 4,
 "nbformat_minor": 2
}
