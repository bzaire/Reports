{
 "cells": [
  {
   "cell_type": "markdown",
   "metadata": {},
   "source": [
    "# Choice of an adequate $\\chi^2_\\mathrm{aim}$ for stokes-_V_\n",
    "\n",
    "In order to choose the best $\\chi^2$ to aim for, we run ZDI aiming for a low value. Then, we observe the progression of the magnetic field intensity with the reduction of the $\\chi^2$. At some low $\\chi^2$, we will start to fit noise and, as result, the attempt to maximize the entropy will add magnetic field everywhere at the star surface. \n",
    "\n",
    "##### _The good value to be aimed for will be the one before this exponential grow in field intensity._\n",
    "\n",
    "\n",
    "- We use the same parameters adopted to find $\\chi^2_\\mathrm{aim}$ the for stokes-_I_ (here also the procedure is done without considering any DR). \n",
    "\n",
    "|           Parameter   |2004   |  2005 |\n",
    "|                ---    |---    |---    |\n",
    "|$K$ (km/s)             | 149.4 | 149.4 |  \n",
    "|$v_\\mathrm{rad}$ (km/s)| 34.7  | 35.0  |\n",
    "|$\\phi$                 |-0.0029|-0.0041|   "
   ]
  },
  {
   "cell_type": "markdown",
   "metadata": {},
   "source": [
    "---\n",
    "\n",
    "## DATA IN 2004\n",
    " "
   ]
  },
  {
   "cell_type": "code",
   "execution_count": 1,
   "metadata": {},
   "outputs": [],
   "source": [
    "# Read file with informations in each run\n",
    "chisq, s, bmod, test = N.genfromtxt('data/chisq_aim_v_2004.txt', unpack=True)"
   ]
  },
  {
   "cell_type": "code",
   "execution_count": 2,
   "metadata": {},
   "outputs": [
    {
     "data": {
      "text/plain": [
       "Text(0.5,0,'$\\\\chi^2$')"
      ]
     },
     "execution_count": 2,
     "metadata": {},
     "output_type": "execute_result"
    },
    {
     "data": {
      "image/png": "[encoded data removed]",
      "text/plain": [
       "<Figure size 432x288 with 1 Axes>"
      ]
     },
     "metadata": {
      "needs_background": "light"
     },
     "output_type": "display_data"
    }
   ],
   "source": [
    "# load modules\n",
    "#%matplotlib notebook\n",
    "import numpy as N\n",
    "import matplotlib.pyplot as P\n",
    "P.rcParams['font.family'] = 'arial'\n",
    "P.scatter(chisq, bmod)\n",
    "caim = 1.02\n",
    "P.plot(N.ones(bmod.shape[0])*caim, bmod, '--k')\n",
    "P.text(caim+0.001, 200, r'$\\chi^2_{aim}$ = %1.3f' %caim, fontsize=22)\n",
    "P.xticks([1.02,1.04,1.06,1.08])\n",
    "P.xlim([chisq.min()-.002,1.082])\n",
    "P.ylim([70, bmod.max()])\n",
    "P.ylabel(r'$|B|$')\n",
    "P.xlabel(r'$\\chi^2$')"
   ]
  },
  {
   "cell_type": "markdown",
   "metadata": {},
   "source": [
    "---\n",
    "\n",
    "## DATA IN 2005"
   ]
  },
  {
   "cell_type": "code",
   "execution_count": 3,
   "metadata": {},
   "outputs": [],
   "source": [
    "chisq, s, bmod, test = N.genfromtxt('data/chisq_aim_v_2005.txt', unpack=True)"
   ]
  },
  {
   "cell_type": "code",
   "execution_count": 4,
   "metadata": {},
   "outputs": [
    {
     "data": {
      "text/plain": [
       "Text(0.5,0,'$\\\\chi^2$')"
      ]
     },
     "execution_count": 4,
     "metadata": {},
     "output_type": "execute_result"
    },
    {
     "data": {
      "image/png": "[encoded data removed]",
      "text/plain": [
       "<Figure size 432x288 with 1 Axes>"
      ]
     },
     "metadata": {
      "needs_background": "light"
     },
     "output_type": "display_data"
    }
   ],
   "source": [
    "P.scatter(chisq, bmod)\n",
    "caim = 1.075\n",
    "P.plot(N.ones(bmod.shape[0])*caim, bmod, '--k')\n",
    "P.text(caim+0.004, 250, r'$\\chi^2_{aim}$ = %1.3f' %caim, fontsize=22)\n",
    "P.xticks([1.08,1.10,1.12,1.14])\n",
    "P.xlim([chisq.min()-.002,1.15])\n",
    "P.ylim([100, bmod.max()])\n",
    "P.ylabel(r'$|B|$')\n",
    "P.xlabel(r'$\\chi^2$')"
   ]
  },
  {
   "cell_type": "markdown",
   "metadata": {},
   "source": [
    "---\n",
    "# Results at both epochs: aiming for the $\\chi^2_\\mathrm{aim}$ indicated in the figures "
   ]
  },
  {
   "cell_type": "markdown",
   "metadata": {},
   "source": [
    "|DATA                  |2004   |  2005 |\n",
    "|---                   |---    |---    |\n",
    "|$\\chi^2_\\mathrm{aim}$ |1.020  |1.075  | \n",
    "|$|B|$                 |173.11 |214.77 |\n",
    "|S                     |-9563  |-10880 |\n",
    "\n",
    "For the complete runs check files: \n",
    " - zdi_v_2004_caim1_02_DR0.txt \n",
    " - zdi_v_2005_caim1_075_DR0.txt "
   ]
  },
  {
   "cell_type": "markdown",
   "metadata": {},
   "source": [
    "## 2004          \n",
    "![](figs/mag_2004_caim_1_02_DR0.png) \n",
    "## 2005 \n",
    "![](figs/mag_2005_caim_1_075_DR0.png)"
   ]
  }
 ],
 "metadata": {
  "kernelspec": {
   "display_name": "Python 3",
   "language": "python",
   "name": "python3"
  },
  "language_info": {
   "codemirror_mode": {
    "name": "ipython",
    "version": 3
   },
   "file_extension": ".py",
   "mimetype": "text/x-python",
   "name": "python",
   "nbconvert_exporter": "python",
   "pygments_lexer": "ipython3",
   "version": "3.7.2"
  },
  "latex_envs": {
   "LaTeX_envs_menu_present": true,
   "autoclose": false,
   "autocomplete": true,
   "bibliofile": "biblio.bib",
   "cite_by": "apalike",
   "current_citInitial": 1,
   "eqLabelWithNumbers": true,
   "eqNumInitial": 1,
   "hotkeys": {
    "equation": "Ctrl-E",
    "itemize": "Ctrl-I"
   },
   "labels_anchors": false,
   "latex_user_defs": false,
   "report_style_numbering": false,
   "user_envs_cfg": false
  }
 },
 "nbformat": 4,
 "nbformat_minor": 2
}
